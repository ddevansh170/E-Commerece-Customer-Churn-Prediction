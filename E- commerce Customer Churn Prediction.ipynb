{
 "cells": [
  {
   "cell_type": "markdown",
   "id": "2e222fa1",
   "metadata": {},
   "source": [
    "# Customer Churn Prediction\n",
    "\n",
    "## Problem statement\n",
    "\n",
    "-  In business, churn is defined as a measure when customers leave company or purchase process during a given period. Churn prediction, is the process of using machine learning algorithms to identify which customers are likely to churn in the future. This is important for companies because it is usually more expensive to acquire new customers than to retain existing ones. It can help companies focus on retaining customers who are at risk of leaving the company. The E-commerce project is conducted to respond to the statement “Which customers are likely to churn during the purchase process?” using Machine Learning.\n",
    "\n",
    "### Data Definition\n",
    "- Session Count (Each time an user initiates a session, a session counter increments for that user)\n",
    "- Event Count (Number of times the event was triggered)\n",
    "- Closed Session Event Count (Number of times the session was closed )\n",
    "- Open Session Event Count (Number of times the customer logged into the system)\n",
    "- Quest Completed Event Count ( Whatever the user was searching they found )\n",
    "- Store Purchase Event Count ( Number of times the item was purchased)\n",
    "- Active Days( Number of days the session was active )\n",
    "- Session Length Minutes ( Session length is typically defined as the amount of time the app is in front of the user )\n",
    "\n",
    "## Insights\n",
    "\n",
    "- The active days of customers range from 1 to 60 days. Around 38 % customers churn having low active days. As the active days increase the retention rate increases significantly.\n",
    "- Around 65% customers have session lengths (min) of 0 to 390 minutes, out of which around 42 % churned, while only 23% stays. As the session length tends to increase, although the number of customers decreases, retention rate increases.\n",
    "- Around 75% of customers have either 0,1 or 2 store purchase event count, with around 43 % churn rate and 32 % stay rate. As the store purchase event count increase the churn rate drops to just 3 %.\n",
    "- Customers with lower session count tend to churn more, compared to customers with higher season count.\n",
    "- Event count with highest number of customer is in bracket  0 to 600, out of which 45 % churn, while only 25 % stay. Also as the event count increases the stay rate increase significantly. \n",
    "- The interpretation of open session event count and closed session event count is same. Around 65 % with lowest (0 to 60) closed and open session event count have highest churn rate. As the open and close session count increase the number of customers reduces significantly. There are few customers with very high values, out of which 16 % stay and only 2 % churn.\n",
    "\n",
    "## Modeling\n",
    "\n",
    "- Decision Tree, Random Forest, Logistics Regression, and Linear Regression are preferred tools for this problem. Model performance will be conducted using Accuracy, Sensitivity, Specificity, Precision and F1-score.\n",
    "- For the purpose of this problem, the model is expected to identify as many customers who are likely to Churn as possible. Hence, Sensitivity which measures the ratio between how much are correctly identified as churn to how much are actually churn, is set to be the main measure.\n",
    "\n",
    "## Model Performance\n",
    "\n",
    "- The Logistics Regression model yields the relatively good result across Accuracy, Sensitivity, and Specificity in both train and test data. This is the best model for predicting churn with sensitivity for train and test data being 97 % and 96 % respectively. Also logistic regression has a good accuracy score of 68 % for train data and 67 % for test data.\n",
    "\n",
    "\n",
    "- Logistic Regression will be the chosen model for implementation as it yields the highest Sensitivity and great insights into feature significance.\n",
    "\n",
    "\n",
    "## Recommendations\n",
    "\n",
    "Based on the outcomes produced by the Logistic Regression model, the management team is recommended to consider a number of approaches to manage customers with high likelihood of churn, which include:\n",
    "- Incentives that encourage customers to stay for longer times on the applications so the churn rate could reduce. The company may consider incentives for those who used the application for a certain number of time. This can be applied to campaigns that encourage customers to get to know the benefits of the app. For example, 5% discount of total premium if a customer used the app daily for a week. The revenue forgone in form of discount should outweigh the cost of churn to ensure the feasibility of the initiative.\n",
    "- Attractive offers for new customers, and those in the high churn propensity list.\n",
    "- If the company's strategy favors customer retention, stricter risk analysis and management should be in place. \n",
    "- The customer persona also helps to identify customers with high chance of churn when they use the application. The company may monitor their online activity closely and identify the probable causes new customers close the application.\n",
    "- The company could work to provide more features, better UI and user experience to its customers.\n"
   ]
  },
  {
   "cell_type": "markdown",
   "id": "e9883c84",
   "metadata": {},
   "source": [
    "#### Importing Libraries"
   ]
  },
  {
   "cell_type": "code",
   "execution_count": 1,
   "id": "10cfe8da",
   "metadata": {},
   "outputs": [],
   "source": [
    "import pandas as pd \n",
    "import numpy as np \n",
    "import seaborn as sns \n",
    "import matplotlib.pyplot as plt \n",
    "import scipy.stats as stats\n",
    "\n",
    "import warnings\n",
    "warnings.filterwarnings(\"ignore\")\n"
   ]
  },
  {
   "cell_type": "code",
   "execution_count": 2,
   "id": "aa1e92f6",
   "metadata": {},
   "outputs": [],
   "source": [
    "df = pd.read_excel('Ecom Data.xlsx')"
   ]
  },
  {
   "cell_type": "code",
   "execution_count": 3,
   "id": "ad87b0ba",
   "metadata": {},
   "outputs": [
    {
     "data": {
      "text/html": [
       "<div>\n",
       "<style scoped>\n",
       "    .dataframe tbody tr th:only-of-type {\n",
       "        vertical-align: middle;\n",
       "    }\n",
       "\n",
       "    .dataframe tbody tr th {\n",
       "        vertical-align: top;\n",
       "    }\n",
       "\n",
       "    .dataframe thead th {\n",
       "        text-align: right;\n",
       "    }\n",
       "</style>\n",
       "<table border=\"1\" class=\"dataframe\">\n",
       "  <thead>\n",
       "    <tr style=\"text-align: right;\">\n",
       "      <th></th>\n",
       "      <th>churn_status</th>\n",
       "      <th>session_length_seconds</th>\n",
       "      <th>session_count</th>\n",
       "      <th>event_count</th>\n",
       "      <th>closed_session_event_count</th>\n",
       "      <th>open_session_event_count</th>\n",
       "      <th>quest_completed_event_count</th>\n",
       "      <th>store_purchase_event_count</th>\n",
       "      <th>active_days</th>\n",
       "    </tr>\n",
       "  </thead>\n",
       "  <tbody>\n",
       "    <tr>\n",
       "      <th>0</th>\n",
       "      <td>Stayed</td>\n",
       "      <td>18355</td>\n",
       "      <td>43</td>\n",
       "      <td>313</td>\n",
       "      <td>55</td>\n",
       "      <td>55</td>\n",
       "      <td>48</td>\n",
       "      <td>0</td>\n",
       "      <td>31</td>\n",
       "    </tr>\n",
       "    <tr>\n",
       "      <th>1</th>\n",
       "      <td>Stayed</td>\n",
       "      <td>16468</td>\n",
       "      <td>24</td>\n",
       "      <td>235</td>\n",
       "      <td>55</td>\n",
       "      <td>54</td>\n",
       "      <td>47</td>\n",
       "      <td>0</td>\n",
       "      <td>13</td>\n",
       "    </tr>\n",
       "    <tr>\n",
       "      <th>2</th>\n",
       "      <td>Churned</td>\n",
       "      <td>46231</td>\n",
       "      <td>101</td>\n",
       "      <td>742</td>\n",
       "      <td>217</td>\n",
       "      <td>217</td>\n",
       "      <td>51</td>\n",
       "      <td>2</td>\n",
       "      <td>12</td>\n",
       "    </tr>\n",
       "    <tr>\n",
       "      <th>3</th>\n",
       "      <td>Stayed</td>\n",
       "      <td>168537</td>\n",
       "      <td>212</td>\n",
       "      <td>2763</td>\n",
       "      <td>272</td>\n",
       "      <td>267</td>\n",
       "      <td>1391</td>\n",
       "      <td>6</td>\n",
       "      <td>53</td>\n",
       "    </tr>\n",
       "    <tr>\n",
       "      <th>4</th>\n",
       "      <td>Churned</td>\n",
       "      <td>12885</td>\n",
       "      <td>37</td>\n",
       "      <td>257</td>\n",
       "      <td>54</td>\n",
       "      <td>53</td>\n",
       "      <td>22</td>\n",
       "      <td>0</td>\n",
       "      <td>16</td>\n",
       "    </tr>\n",
       "  </tbody>\n",
       "</table>\n",
       "</div>"
      ],
      "text/plain": [
       "  churn_status  session_length_seconds  session_count  event_count  \\\n",
       "0       Stayed                   18355             43          313   \n",
       "1       Stayed                   16468             24          235   \n",
       "2      Churned                   46231            101          742   \n",
       "3       Stayed                  168537            212         2763   \n",
       "4      Churned                   12885             37          257   \n",
       "\n",
       "   closed_session_event_count  open_session_event_count  \\\n",
       "0                          55                        55   \n",
       "1                          55                        54   \n",
       "2                         217                       217   \n",
       "3                         272                       267   \n",
       "4                          54                        53   \n",
       "\n",
       "   quest_completed_event_count  store_purchase_event_count  active_days  \n",
       "0                           48                           0           31  \n",
       "1                           47                           0           13  \n",
       "2                           51                           2           12  \n",
       "3                         1391                           6           53  \n",
       "4                           22                           0           16  "
      ]
     },
     "execution_count": 3,
     "metadata": {},
     "output_type": "execute_result"
    }
   ],
   "source": [
    "df.head()"
   ]
  },
  {
   "cell_type": "code",
   "execution_count": 4,
   "id": "0e97e82b",
   "metadata": {},
   "outputs": [],
   "source": [
    "## We will keep an untouched copy of our dataset in case we need it ahead.\n",
    "\n",
    "dt = df.copy()"
   ]
  },
  {
   "cell_type": "code",
   "execution_count": 5,
   "id": "c72707c0",
   "metadata": {},
   "outputs": [
    {
     "data": {
      "text/html": [
       "<div>\n",
       "<style scoped>\n",
       "    .dataframe tbody tr th:only-of-type {\n",
       "        vertical-align: middle;\n",
       "    }\n",
       "\n",
       "    .dataframe tbody tr th {\n",
       "        vertical-align: top;\n",
       "    }\n",
       "\n",
       "    .dataframe thead th {\n",
       "        text-align: right;\n",
       "    }\n",
       "</style>\n",
       "<table border=\"1\" class=\"dataframe\">\n",
       "  <thead>\n",
       "    <tr style=\"text-align: right;\">\n",
       "      <th></th>\n",
       "      <th>session_length_seconds</th>\n",
       "      <th>session_count</th>\n",
       "      <th>event_count</th>\n",
       "      <th>closed_session_event_count</th>\n",
       "      <th>open_session_event_count</th>\n",
       "      <th>quest_completed_event_count</th>\n",
       "      <th>store_purchase_event_count</th>\n",
       "      <th>active_days</th>\n",
       "    </tr>\n",
       "  </thead>\n",
       "  <tbody>\n",
       "    <tr>\n",
       "      <th>count</th>\n",
       "      <td>10000.00000</td>\n",
       "      <td>10000.00000</td>\n",
       "      <td>10000.00000</td>\n",
       "      <td>10000.00000</td>\n",
       "      <td>10000.00000</td>\n",
       "      <td>10000.00000</td>\n",
       "      <td>10000.00000</td>\n",
       "      <td>10000.00000</td>\n",
       "    </tr>\n",
       "    <tr>\n",
       "      <th>mean</th>\n",
       "      <td>35716.74840</td>\n",
       "      <td>64.17580</td>\n",
       "      <td>721.42070</td>\n",
       "      <td>109.08670</td>\n",
       "      <td>108.42480</td>\n",
       "      <td>202.25160</td>\n",
       "      <td>4.67630</td>\n",
       "      <td>15.23430</td>\n",
       "    </tr>\n",
       "    <tr>\n",
       "      <th>std</th>\n",
       "      <td>75896.32471</td>\n",
       "      <td>102.12265</td>\n",
       "      <td>1443.55643</td>\n",
       "      <td>189.63287</td>\n",
       "      <td>189.11090</td>\n",
       "      <td>737.30737</td>\n",
       "      <td>17.47490</td>\n",
       "      <td>16.42441</td>\n",
       "    </tr>\n",
       "    <tr>\n",
       "      <th>min</th>\n",
       "      <td>0.00000</td>\n",
       "      <td>1.00000</td>\n",
       "      <td>1.00000</td>\n",
       "      <td>0.00000</td>\n",
       "      <td>0.00000</td>\n",
       "      <td>0.00000</td>\n",
       "      <td>0.00000</td>\n",
       "      <td>1.00000</td>\n",
       "    </tr>\n",
       "    <tr>\n",
       "      <th>25%</th>\n",
       "      <td>1449.00000</td>\n",
       "      <td>3.00000</td>\n",
       "      <td>41.00000</td>\n",
       "      <td>6.00000</td>\n",
       "      <td>6.00000</td>\n",
       "      <td>3.00000</td>\n",
       "      <td>0.00000</td>\n",
       "      <td>2.00000</td>\n",
       "    </tr>\n",
       "    <tr>\n",
       "      <th>50%</th>\n",
       "      <td>8063.50000</td>\n",
       "      <td>17.00000</td>\n",
       "      <td>197.00000</td>\n",
       "      <td>28.00000</td>\n",
       "      <td>28.00000</td>\n",
       "      <td>20.00000</td>\n",
       "      <td>0.00000</td>\n",
       "      <td>8.00000</td>\n",
       "    </tr>\n",
       "    <tr>\n",
       "      <th>75%</th>\n",
       "      <td>36023.50000</td>\n",
       "      <td>79.00000</td>\n",
       "      <td>789.00000</td>\n",
       "      <td>128.00000</td>\n",
       "      <td>127.00000</td>\n",
       "      <td>103.00000</td>\n",
       "      <td>3.00000</td>\n",
       "      <td>24.00000</td>\n",
       "    </tr>\n",
       "    <tr>\n",
       "      <th>max</th>\n",
       "      <td>1628535.00000</td>\n",
       "      <td>828.00000</td>\n",
       "      <td>25869.00000</td>\n",
       "      <td>2671.00000</td>\n",
       "      <td>2664.00000</td>\n",
       "      <td>17538.00000</td>\n",
       "      <td>401.00000</td>\n",
       "      <td>55.00000</td>\n",
       "    </tr>\n",
       "  </tbody>\n",
       "</table>\n",
       "</div>"
      ],
      "text/plain": [
       "       session_length_seconds  session_count  event_count  \\\n",
       "count             10000.00000    10000.00000  10000.00000   \n",
       "mean              35716.74840       64.17580    721.42070   \n",
       "std               75896.32471      102.12265   1443.55643   \n",
       "min                   0.00000        1.00000      1.00000   \n",
       "25%                1449.00000        3.00000     41.00000   \n",
       "50%                8063.50000       17.00000    197.00000   \n",
       "75%               36023.50000       79.00000    789.00000   \n",
       "max             1628535.00000      828.00000  25869.00000   \n",
       "\n",
       "       closed_session_event_count  open_session_event_count  \\\n",
       "count                 10000.00000               10000.00000   \n",
       "mean                    109.08670                 108.42480   \n",
       "std                     189.63287                 189.11090   \n",
       "min                       0.00000                   0.00000   \n",
       "25%                       6.00000                   6.00000   \n",
       "50%                      28.00000                  28.00000   \n",
       "75%                     128.00000                 127.00000   \n",
       "max                    2671.00000                2664.00000   \n",
       "\n",
       "       quest_completed_event_count  store_purchase_event_count  active_days  \n",
       "count                  10000.00000                 10000.00000  10000.00000  \n",
       "mean                     202.25160                     4.67630     15.23430  \n",
       "std                      737.30737                    17.47490     16.42441  \n",
       "min                        0.00000                     0.00000      1.00000  \n",
       "25%                        3.00000                     0.00000      2.00000  \n",
       "50%                       20.00000                     0.00000      8.00000  \n",
       "75%                      103.00000                     3.00000     24.00000  \n",
       "max                    17538.00000                   401.00000     55.00000  "
      ]
     },
     "execution_count": 5,
     "metadata": {},
     "output_type": "execute_result"
    }
   ],
   "source": [
    "# Checking descriptive statistics of Numeric variables\n",
    "\n",
    "pd.options.display.float_format = '{:.5f}'.format\n",
    "df.describe()"
   ]
  },
  {
   "cell_type": "code",
   "execution_count": 6,
   "id": "7143c954",
   "metadata": {},
   "outputs": [],
   "source": [
    "pd.options.display.float_format = '{:.5f}'.format"
   ]
  },
  {
   "cell_type": "code",
   "execution_count": 7,
   "id": "f999095f",
   "metadata": {},
   "outputs": [
    {
     "data": {
      "text/html": [
       "<div>\n",
       "<style scoped>\n",
       "    .dataframe tbody tr th:only-of-type {\n",
       "        vertical-align: middle;\n",
       "    }\n",
       "\n",
       "    .dataframe tbody tr th {\n",
       "        vertical-align: top;\n",
       "    }\n",
       "\n",
       "    .dataframe thead th {\n",
       "        text-align: right;\n",
       "    }\n",
       "</style>\n",
       "<table border=\"1\" class=\"dataframe\">\n",
       "  <thead>\n",
       "    <tr style=\"text-align: right;\">\n",
       "      <th></th>\n",
       "      <th>churn_status</th>\n",
       "    </tr>\n",
       "  </thead>\n",
       "  <tbody>\n",
       "    <tr>\n",
       "      <th>count</th>\n",
       "      <td>10000</td>\n",
       "    </tr>\n",
       "    <tr>\n",
       "      <th>unique</th>\n",
       "      <td>2</td>\n",
       "    </tr>\n",
       "    <tr>\n",
       "      <th>top</th>\n",
       "      <td>Stayed</td>\n",
       "    </tr>\n",
       "    <tr>\n",
       "      <th>freq</th>\n",
       "      <td>5227</td>\n",
       "    </tr>\n",
       "  </tbody>\n",
       "</table>\n",
       "</div>"
      ],
      "text/plain": [
       "       churn_status\n",
       "count         10000\n",
       "unique            2\n",
       "top          Stayed\n",
       "freq           5227"
      ]
     },
     "execution_count": 7,
     "metadata": {},
     "output_type": "execute_result"
    }
   ],
   "source": [
    "# Checking descriptive statistics of Categorical variables\n",
    "\n",
    "df.describe(include = 'object')"
   ]
  },
  {
   "cell_type": "code",
   "execution_count": 8,
   "id": "1047be00",
   "metadata": {},
   "outputs": [
    {
     "data": {
      "text/plain": [
       "Stayed     5227\n",
       "Churned    4773\n",
       "Name: churn_status, dtype: int64"
      ]
     },
     "execution_count": 8,
     "metadata": {},
     "output_type": "execute_result"
    }
   ],
   "source": [
    "df['churn_status'].value_counts()"
   ]
  },
  {
   "cell_type": "code",
   "execution_count": 9,
   "id": "ff4b13c2",
   "metadata": {},
   "outputs": [],
   "source": [
    "#converting session length from seconds to minutes\n",
    "\n",
    "df['session_length_min'] = df['session_length_seconds']/60"
   ]
  },
  {
   "cell_type": "markdown",
   "id": "22542610",
   "metadata": {},
   "source": [
    "### Checking NA values in dataset"
   ]
  },
  {
   "cell_type": "code",
   "execution_count": 10,
   "id": "5dd5de40",
   "metadata": {},
   "outputs": [
    {
     "data": {
      "text/plain": [
       "churn_status                   0\n",
       "session_length_seconds         0\n",
       "session_count                  0\n",
       "event_count                    0\n",
       "closed_session_event_count     0\n",
       "open_session_event_count       0\n",
       "quest_completed_event_count    0\n",
       "store_purchase_event_count     0\n",
       "active_days                    0\n",
       "session_length_min             0\n",
       "dtype: int64"
      ]
     },
     "execution_count": 10,
     "metadata": {},
     "output_type": "execute_result"
    }
   ],
   "source": [
    "df.isna().sum()\n",
    "\n",
    "## No NA values in dataset"
   ]
  },
  {
   "cell_type": "markdown",
   "id": "e221885e",
   "metadata": {},
   "source": [
    "# Outliers Treatment"
   ]
  },
  {
   "cell_type": "code",
   "execution_count": 11,
   "id": "621c27f5",
   "metadata": {},
   "outputs": [
    {
     "data": {
      "text/plain": [
       "<AxesSubplot:>"
      ]
     },
     "execution_count": 11,
     "metadata": {},
     "output_type": "execute_result"
    },
    {
     "data": {
      "image/png": "[encoded data removed]",
      "text/plain": [
       "<Figure size 1080x720 with 1 Axes>"
      ]
     },
     "metadata": {
      "needs_background": "light"
     },
     "output_type": "display_data"
    }
   ],
   "source": [
    "import matplotlib.pyplot as plt \n",
    "plt.rcParams['figure.figsize']=(15,10)\n",
    "sns.boxplot(data=df.drop(df.columns[[0,1]], axis=1), orient=\"h\")"
   ]
  },
  {
   "cell_type": "markdown",
   "id": "97e268e9",
   "metadata": {},
   "source": [
    "#### There’s a quite a lot of features with outliers. We will use a quantile based flooring method to treat outliers. As per the method, any value beyond 1.5*Q1 and 1.5*Q3 will be regarded as outliers,  and all the outlier values will be replaced by Q1-1.5*Q1 and Q3+1.5*Q3."
   ]
  },
  {
   "cell_type": "markdown",
   "id": "838ac045",
   "metadata": {},
   "source": [
    "#### Count number of outliers\n"
   ]
  },
  {
   "cell_type": "code",
   "execution_count": 12,
   "id": "3f9d7bec",
   "metadata": {},
   "outputs": [
    {
     "data": {
      "text/plain": [
       "active_days                       0\n",
       "churn_status                      0\n",
       "closed_session_event_count     1071\n",
       "event_count                    1059\n",
       "open_session_event_count       1078\n",
       "quest_completed_event_count    1457\n",
       "session_count                  1067\n",
       "session_length_min             1150\n",
       "session_length_seconds         1150\n",
       "store_purchase_event_count     1357\n",
       "dtype: int64"
      ]
     },
     "execution_count": 12,
     "metadata": {},
     "output_type": "execute_result"
    }
   ],
   "source": [
    "Q1 = df.quantile(0.25)\n",
    "Q3 = df.quantile(0.75)\n",
    "IQR = Q3 - Q1\n",
    "((df < (Q1 - 1.5 * IQR)) | (df > (Q3 + 1.5 * IQR))).sum()"
   ]
  },
  {
   "cell_type": "code",
   "execution_count": 13,
   "id": "0e6011b9",
   "metadata": {},
   "outputs": [],
   "source": [
    "cat = list(df.select_dtypes(include='object').columns) #object type columns\n",
    "num = list(df.select_dtypes(exclude='object').columns) #numerical type columns\n",
    "num.remove('session_length_seconds')\n",
    "cat.remove('churn_status')"
   ]
  },
  {
   "cell_type": "code",
   "execution_count": null,
   "id": "a8cf1667",
   "metadata": {},
   "outputs": [],
   "source": []
  },
  {
   "cell_type": "markdown",
   "id": "b31bb7e0",
   "metadata": {},
   "source": [
    "# Seperating Outliers and Checking Customer Profile"
   ]
  },
  {
   "cell_type": "markdown",
   "id": "9e3bec75",
   "metadata": {},
   "source": [
    "### Session_count"
   ]
  },
  {
   "cell_type": "code",
   "execution_count": 14,
   "id": "80c64d4a",
   "metadata": {},
   "outputs": [
    {
     "data": {
      "text/html": [
       "<div>\n",
       "<style scoped>\n",
       "    .dataframe tbody tr th:only-of-type {\n",
       "        vertical-align: middle;\n",
       "    }\n",
       "\n",
       "    .dataframe tbody tr th {\n",
       "        vertical-align: top;\n",
       "    }\n",
       "\n",
       "    .dataframe thead th {\n",
       "        text-align: right;\n",
       "    }\n",
       "</style>\n",
       "<table border=\"1\" class=\"dataframe\">\n",
       "  <thead>\n",
       "    <tr style=\"text-align: right;\">\n",
       "      <th></th>\n",
       "      <th>churn_status</th>\n",
       "      <th>session_length_seconds</th>\n",
       "      <th>session_count</th>\n",
       "      <th>event_count</th>\n",
       "      <th>closed_session_event_count</th>\n",
       "      <th>open_session_event_count</th>\n",
       "      <th>quest_completed_event_count</th>\n",
       "      <th>store_purchase_event_count</th>\n",
       "      <th>active_days</th>\n",
       "      <th>session_length_min</th>\n",
       "    </tr>\n",
       "  </thead>\n",
       "  <tbody>\n",
       "    <tr>\n",
       "      <th>3</th>\n",
       "      <td>Stayed</td>\n",
       "      <td>168537</td>\n",
       "      <td>212</td>\n",
       "      <td>2763</td>\n",
       "      <td>272</td>\n",
       "      <td>267</td>\n",
       "      <td>1391</td>\n",
       "      <td>6</td>\n",
       "      <td>53</td>\n",
       "      <td>2808.95000</td>\n",
       "    </tr>\n",
       "    <tr>\n",
       "      <th>16</th>\n",
       "      <td>Stayed</td>\n",
       "      <td>193454</td>\n",
       "      <td>199</td>\n",
       "      <td>3603</td>\n",
       "      <td>482</td>\n",
       "      <td>477</td>\n",
       "      <td>1148</td>\n",
       "      <td>21</td>\n",
       "      <td>43</td>\n",
       "      <td>3224.23333</td>\n",
       "    </tr>\n",
       "    <tr>\n",
       "      <th>24</th>\n",
       "      <td>Stayed</td>\n",
       "      <td>248000</td>\n",
       "      <td>601</td>\n",
       "      <td>5771</td>\n",
       "      <td>948</td>\n",
       "      <td>935</td>\n",
       "      <td>2314</td>\n",
       "      <td>21</td>\n",
       "      <td>55</td>\n",
       "      <td>4133.33333</td>\n",
       "    </tr>\n",
       "    <tr>\n",
       "      <th>35</th>\n",
       "      <td>Churned</td>\n",
       "      <td>136202</td>\n",
       "      <td>316</td>\n",
       "      <td>3546</td>\n",
       "      <td>560</td>\n",
       "      <td>557</td>\n",
       "      <td>1437</td>\n",
       "      <td>23</td>\n",
       "      <td>44</td>\n",
       "      <td>2270.03333</td>\n",
       "    </tr>\n",
       "    <tr>\n",
       "      <th>47</th>\n",
       "      <td>Stayed</td>\n",
       "      <td>103963</td>\n",
       "      <td>219</td>\n",
       "      <td>2120</td>\n",
       "      <td>357</td>\n",
       "      <td>356</td>\n",
       "      <td>578</td>\n",
       "      <td>15</td>\n",
       "      <td>29</td>\n",
       "      <td>1732.71667</td>\n",
       "    </tr>\n",
       "  </tbody>\n",
       "</table>\n",
       "</div>"
      ],
      "text/plain": [
       "   churn_status  session_length_seconds  session_count  event_count  \\\n",
       "3        Stayed                  168537            212         2763   \n",
       "16       Stayed                  193454            199         3603   \n",
       "24       Stayed                  248000            601         5771   \n",
       "35      Churned                  136202            316         3546   \n",
       "47       Stayed                  103963            219         2120   \n",
       "\n",
       "    closed_session_event_count  open_session_event_count  \\\n",
       "3                          272                       267   \n",
       "16                         482                       477   \n",
       "24                         948                       935   \n",
       "35                         560                       557   \n",
       "47                         357                       356   \n",
       "\n",
       "    quest_completed_event_count  store_purchase_event_count  active_days  \\\n",
       "3                          1391                           6           53   \n",
       "16                         1148                          21           43   \n",
       "24                         2314                          21           55   \n",
       "35                         1437                          23           44   \n",
       "47                          578                          15           29   \n",
       "\n",
       "    session_length_min  \n",
       "3           2808.95000  \n",
       "16          3224.23333  \n",
       "24          4133.33333  \n",
       "35          2270.03333  \n",
       "47          1732.71667  "
      ]
     },
     "execution_count": 14,
     "metadata": {},
     "output_type": "execute_result"
    }
   ],
   "source": [
    "## Seperating Outliers ids for Session_count in seperate dataframe.\n",
    "\n",
    "Q1 = df['session_count'].quantile(0.25)\n",
    "Q3 = df['session_count'].quantile(0.75)\n",
    "IQR=Q3-Q1\n",
    "lr= Q1-(1.5 * IQR)\n",
    "ur= Q3+(1.5 * IQR)\n",
    "\n",
    "session_count = df.loc[ (df['session_count']<  (Q1 - 1.5 * IQR)) | (df['session_count'] > (Q3 + 1.5 * IQR))   , ]\n",
    "session_count.head()"
   ]
  },
  {
   "cell_type": "code",
   "execution_count": 15,
   "id": "f94b2e35",
   "metadata": {},
   "outputs": [
    {
     "data": {
      "text/plain": [
       "churn_status\n",
       "Stayed    94.65792\n",
       "Churned    5.34208\n",
       "dtype: float64"
      ]
     },
     "execution_count": 15,
     "metadata": {},
     "output_type": "execute_result"
    }
   ],
   "source": [
    "## Checking proportion of churn and stayed for these outliers\n",
    "\n",
    "(session_count.value_counts('churn_status')/ len(session_count))*100"
   ]
  },
  {
   "cell_type": "code",
   "execution_count": 16,
   "id": "765fdc90",
   "metadata": {},
   "outputs": [
    {
     "data": {
      "text/html": [
       "<div>\n",
       "<style scoped>\n",
       "    .dataframe tbody tr th:only-of-type {\n",
       "        vertical-align: middle;\n",
       "    }\n",
       "\n",
       "    .dataframe tbody tr th {\n",
       "        vertical-align: top;\n",
       "    }\n",
       "\n",
       "    .dataframe thead th {\n",
       "        text-align: right;\n",
       "    }\n",
       "</style>\n",
       "<table border=\"1\" class=\"dataframe\">\n",
       "  <thead>\n",
       "    <tr style=\"text-align: right;\">\n",
       "      <th></th>\n",
       "      <th>session_length_seconds</th>\n",
       "      <th>session_count</th>\n",
       "      <th>event_count</th>\n",
       "      <th>closed_session_event_count</th>\n",
       "      <th>open_session_event_count</th>\n",
       "      <th>quest_completed_event_count</th>\n",
       "      <th>store_purchase_event_count</th>\n",
       "      <th>active_days</th>\n",
       "      <th>session_length_min</th>\n",
       "    </tr>\n",
       "    <tr>\n",
       "      <th>churn_status</th>\n",
       "      <th></th>\n",
       "      <th></th>\n",
       "      <th></th>\n",
       "      <th></th>\n",
       "      <th></th>\n",
       "      <th></th>\n",
       "      <th></th>\n",
       "      <th></th>\n",
       "      <th></th>\n",
       "    </tr>\n",
       "  </thead>\n",
       "  <tbody>\n",
       "    <tr>\n",
       "      <th>Churned</th>\n",
       "      <td>86260.44175</td>\n",
       "      <td>63.48334</td>\n",
       "      <td>1578.69863</td>\n",
       "      <td>180.01644</td>\n",
       "      <td>179.65622</td>\n",
       "      <td>1008.32932</td>\n",
       "      <td>12.05176</td>\n",
       "      <td>7.78892</td>\n",
       "      <td>1437.67403</td>\n",
       "    </tr>\n",
       "    <tr>\n",
       "      <th>Stayed</th>\n",
       "      <td>152416.91932</td>\n",
       "      <td>107.98046</td>\n",
       "      <td>2845.40706</td>\n",
       "      <td>284.12544</td>\n",
       "      <td>283.84637</td>\n",
       "      <td>1879.30486</td>\n",
       "      <td>39.34502</td>\n",
       "      <td>9.20281</td>\n",
       "      <td>2540.28199</td>\n",
       "    </tr>\n",
       "  </tbody>\n",
       "</table>\n",
       "</div>"
      ],
      "text/plain": [
       "              session_length_seconds  session_count  event_count  \\\n",
       "churn_status                                                       \n",
       "Churned                  86260.44175       63.48334   1578.69863   \n",
       "Stayed                  152416.91932      107.98046   2845.40706   \n",
       "\n",
       "              closed_session_event_count  open_session_event_count  \\\n",
       "churn_status                                                         \n",
       "Churned                        180.01644                 179.65622   \n",
       "Stayed                         284.12544                 283.84637   \n",
       "\n",
       "              quest_completed_event_count  store_purchase_event_count  \\\n",
       "churn_status                                                            \n",
       "Churned                        1008.32932                    12.05176   \n",
       "Stayed                         1879.30486                    39.34502   \n",
       "\n",
       "              active_days  session_length_min  \n",
       "churn_status                                   \n",
       "Churned           7.78892          1437.67403  \n",
       "Stayed            9.20281          2540.28199  "
      ]
     },
     "execution_count": 16,
     "metadata": {},
     "output_type": "execute_result"
    }
   ],
   "source": [
    "session_count.groupby(['churn_status']).std()"
   ]
  },
  {
   "cell_type": "markdown",
   "id": "742eb140",
   "metadata": {},
   "source": [
    "#### As the standard deviation of the ID who have session count as outlier, is not close to 0. So, they have different characteristic. Hence the outliers for session count could be removed using IQR method."
   ]
  },
  {
   "cell_type": "markdown",
   "id": "5b5be510",
   "metadata": {},
   "source": [
    "## Event_count"
   ]
  },
  {
   "cell_type": "code",
   "execution_count": 17,
   "id": "6d9cefc3",
   "metadata": {},
   "outputs": [
    {
     "data": {
      "text/plain": [
       "(1059, 10)"
      ]
     },
     "execution_count": 17,
     "metadata": {},
     "output_type": "execute_result"
    }
   ],
   "source": [
    "## Seperating Outliers ids for event_count in seperate dataframe.\n",
    "\n",
    "Q1 = df['event_count'].quantile(0.25)\n",
    "Q3 = df['event_count'].quantile(0.75)\n",
    "IQR=Q3-Q1\n",
    "lr= Q1-(1.5 * IQR)\n",
    "ur= Q3+(1.5 * IQR)\n",
    "event_count = df.loc[ (df['event_count']<  (Q1 - 1.5 * IQR)) | (df['event_count'] > (Q3 + 1.5 * IQR))   , ]\n",
    "event_count.shape"
   ]
  },
  {
   "cell_type": "code",
   "execution_count": 18,
   "id": "34f26ef4",
   "metadata": {},
   "outputs": [
    {
     "data": {
      "text/plain": [
       "churn_status\n",
       "Stayed    93.48442\n",
       "Churned    6.51558\n",
       "dtype: float64"
      ]
     },
     "execution_count": 18,
     "metadata": {},
     "output_type": "execute_result"
    }
   ],
   "source": [
    "## Checking proportion of churn and stayed for these outliers\n",
    "\n",
    "(event_count.value_counts('churn_status')/ len(event_count))*100"
   ]
  },
  {
   "cell_type": "code",
   "execution_count": 19,
   "id": "b20ce824",
   "metadata": {},
   "outputs": [
    {
     "data": {
      "text/html": [
       "<div>\n",
       "<style scoped>\n",
       "    .dataframe tbody tr th:only-of-type {\n",
       "        vertical-align: middle;\n",
       "    }\n",
       "\n",
       "    .dataframe tbody tr th {\n",
       "        vertical-align: top;\n",
       "    }\n",
       "\n",
       "    .dataframe thead th {\n",
       "        text-align: right;\n",
       "    }\n",
       "</style>\n",
       "<table border=\"1\" class=\"dataframe\">\n",
       "  <thead>\n",
       "    <tr style=\"text-align: right;\">\n",
       "      <th></th>\n",
       "      <th>session_length_seconds</th>\n",
       "      <th>session_count</th>\n",
       "      <th>event_count</th>\n",
       "      <th>closed_session_event_count</th>\n",
       "      <th>open_session_event_count</th>\n",
       "      <th>quest_completed_event_count</th>\n",
       "      <th>store_purchase_event_count</th>\n",
       "      <th>active_days</th>\n",
       "      <th>session_length_min</th>\n",
       "    </tr>\n",
       "    <tr>\n",
       "      <th>churn_status</th>\n",
       "      <th></th>\n",
       "      <th></th>\n",
       "      <th></th>\n",
       "      <th></th>\n",
       "      <th></th>\n",
       "      <th></th>\n",
       "      <th></th>\n",
       "      <th></th>\n",
       "      <th></th>\n",
       "    </tr>\n",
       "  </thead>\n",
       "  <tbody>\n",
       "    <tr>\n",
       "      <th>Churned</th>\n",
       "      <td>91322.15345</td>\n",
       "      <td>93.53490</td>\n",
       "      <td>1619.80045</td>\n",
       "      <td>195.44545</td>\n",
       "      <td>195.43305</td>\n",
       "      <td>1220.54527</td>\n",
       "      <td>58.10743</td>\n",
       "      <td>9.61239</td>\n",
       "      <td>1522.03589</td>\n",
       "    </tr>\n",
       "    <tr>\n",
       "      <th>Stayed</th>\n",
       "      <td>145387.40303</td>\n",
       "      <td>133.80381</td>\n",
       "      <td>2739.36098</td>\n",
       "      <td>295.21659</td>\n",
       "      <td>295.16748</td>\n",
       "      <td>1877.65950</td>\n",
       "      <td>41.81225</td>\n",
       "      <td>12.93145</td>\n",
       "      <td>2423.12338</td>\n",
       "    </tr>\n",
       "  </tbody>\n",
       "</table>\n",
       "</div>"
      ],
      "text/plain": [
       "              session_length_seconds  session_count  event_count  \\\n",
       "churn_status                                                       \n",
       "Churned                  91322.15345       93.53490   1619.80045   \n",
       "Stayed                  145387.40303      133.80381   2739.36098   \n",
       "\n",
       "              closed_session_event_count  open_session_event_count  \\\n",
       "churn_status                                                         \n",
       "Churned                        195.44545                 195.43305   \n",
       "Stayed                         295.21659                 295.16748   \n",
       "\n",
       "              quest_completed_event_count  store_purchase_event_count  \\\n",
       "churn_status                                                            \n",
       "Churned                        1220.54527                    58.10743   \n",
       "Stayed                         1877.65950                    41.81225   \n",
       "\n",
       "              active_days  session_length_min  \n",
       "churn_status                                   \n",
       "Churned           9.61239          1522.03589  \n",
       "Stayed           12.93145          2423.12338  "
      ]
     },
     "execution_count": 19,
     "metadata": {},
     "output_type": "execute_result"
    }
   ],
   "source": [
    "event_count.groupby(['churn_status']).std()"
   ]
  },
  {
   "cell_type": "markdown",
   "id": "9124536a",
   "metadata": {},
   "source": [
    "#### As the standard deviation of the customers who have event count as outlier, is not close to 0. So, they have different characteristic. Hence the outliers for event count could be removed using IQR method."
   ]
  },
  {
   "cell_type": "markdown",
   "id": "8234adfd",
   "metadata": {},
   "source": [
    "## closed_session_event_count"
   ]
  },
  {
   "cell_type": "code",
   "execution_count": 20,
   "id": "2f1fe785",
   "metadata": {},
   "outputs": [
    {
     "data": {
      "text/plain": [
       "(1071, 10)"
      ]
     },
     "execution_count": 20,
     "metadata": {},
     "output_type": "execute_result"
    }
   ],
   "source": [
    "## Seperating Outliers ids for closed session event count in seperate dataframe.\n",
    "\n",
    "Q1 = df['closed_session_event_count'].quantile(0.25)\n",
    "Q3 = df['closed_session_event_count'].quantile(0.75)\n",
    "IQR=Q3-Q1\n",
    "lr= Q1-(1.5 * IQR)\n",
    "ur= Q3+(1.5 * IQR)\n",
    "closed_session_event_count = df.loc[ (df['closed_session_event_count']<  (Q1 - 1.5 * IQR)) | (df['closed_session_event_count'] > (Q3 + 1.5 * IQR))   , ]\n",
    "closed_session_event_count.shape\n"
   ]
  },
  {
   "cell_type": "code",
   "execution_count": 21,
   "id": "2806d1f8",
   "metadata": {},
   "outputs": [
    {
     "data": {
      "text/plain": [
       "churn_status\n",
       "Stayed    94.02428\n",
       "Churned    5.97572\n",
       "dtype: float64"
      ]
     },
     "execution_count": 21,
     "metadata": {},
     "output_type": "execute_result"
    }
   ],
   "source": [
    "## Checking proportion of churn and stayed for these outliers\n",
    "\n",
    "(closed_session_event_count.value_counts('churn_status')/ len(closed_session_event_count))*100"
   ]
  },
  {
   "cell_type": "code",
   "execution_count": 22,
   "id": "3daa0d0d",
   "metadata": {},
   "outputs": [
    {
     "data": {
      "text/html": [
       "<div>\n",
       "<style scoped>\n",
       "    .dataframe tbody tr th:only-of-type {\n",
       "        vertical-align: middle;\n",
       "    }\n",
       "\n",
       "    .dataframe tbody tr th {\n",
       "        vertical-align: top;\n",
       "    }\n",
       "\n",
       "    .dataframe thead th {\n",
       "        text-align: right;\n",
       "    }\n",
       "</style>\n",
       "<table border=\"1\" class=\"dataframe\">\n",
       "  <thead>\n",
       "    <tr style=\"text-align: right;\">\n",
       "      <th></th>\n",
       "      <th>session_length_seconds</th>\n",
       "      <th>session_count</th>\n",
       "      <th>event_count</th>\n",
       "      <th>closed_session_event_count</th>\n",
       "      <th>open_session_event_count</th>\n",
       "      <th>quest_completed_event_count</th>\n",
       "      <th>store_purchase_event_count</th>\n",
       "      <th>active_days</th>\n",
       "      <th>session_length_min</th>\n",
       "    </tr>\n",
       "    <tr>\n",
       "      <th>churn_status</th>\n",
       "      <th></th>\n",
       "      <th></th>\n",
       "      <th></th>\n",
       "      <th></th>\n",
       "      <th></th>\n",
       "      <th></th>\n",
       "      <th></th>\n",
       "      <th></th>\n",
       "      <th></th>\n",
       "    </tr>\n",
       "  </thead>\n",
       "  <tbody>\n",
       "    <tr>\n",
       "      <th>Churned</th>\n",
       "      <td>92982.93486</td>\n",
       "      <td>79.88362</td>\n",
       "      <td>1805.78354</td>\n",
       "      <td>167.45666</td>\n",
       "      <td>166.46397</td>\n",
       "      <td>1299.99008</td>\n",
       "      <td>12.92706</td>\n",
       "      <td>8.72235</td>\n",
       "      <td>1549.71558</td>\n",
       "    </tr>\n",
       "    <tr>\n",
       "      <th>Stayed</th>\n",
       "      <td>148454.54602</td>\n",
       "      <td>119.25215</td>\n",
       "      <td>2806.27475</td>\n",
       "      <td>272.58888</td>\n",
       "      <td>272.47355</td>\n",
       "      <td>1890.65822</td>\n",
       "      <td>38.54275</td>\n",
       "      <td>11.63461</td>\n",
       "      <td>2474.24243</td>\n",
       "    </tr>\n",
       "  </tbody>\n",
       "</table>\n",
       "</div>"
      ],
      "text/plain": [
       "              session_length_seconds  session_count  event_count  \\\n",
       "churn_status                                                       \n",
       "Churned                  92982.93486       79.88362   1805.78354   \n",
       "Stayed                  148454.54602      119.25215   2806.27475   \n",
       "\n",
       "              closed_session_event_count  open_session_event_count  \\\n",
       "churn_status                                                         \n",
       "Churned                        167.45666                 166.46397   \n",
       "Stayed                         272.58888                 272.47355   \n",
       "\n",
       "              quest_completed_event_count  store_purchase_event_count  \\\n",
       "churn_status                                                            \n",
       "Churned                        1299.99008                    12.92706   \n",
       "Stayed                         1890.65822                    38.54275   \n",
       "\n",
       "              active_days  session_length_min  \n",
       "churn_status                                   \n",
       "Churned           8.72235          1549.71558  \n",
       "Stayed           11.63461          2474.24243  "
      ]
     },
     "execution_count": 22,
     "metadata": {},
     "output_type": "execute_result"
    }
   ],
   "source": [
    "closed_session_event_count.groupby(['churn_status']).std()"
   ]
  },
  {
   "cell_type": "markdown",
   "id": "14d660a9",
   "metadata": {},
   "source": [
    "#### As the standard deviation of the customers who have closed session event count as outlier, is not close to 0. So, they have different characteristic. Hence the outliers for closed session event coun could be removed using IQR method."
   ]
  },
  {
   "cell_type": "markdown",
   "id": "778bc2bc",
   "metadata": {},
   "source": [
    "# Outliers Capping"
   ]
  },
  {
   "cell_type": "code",
   "execution_count": 23,
   "id": "439f4931",
   "metadata": {},
   "outputs": [],
   "source": [
    "for cols in num:\n",
    "    Q1 = df[cols].quantile(0.25)\n",
    "    Q3 = df[cols].quantile(0.75)\n",
    "    IQR=Q3-Q1\n",
    "    lr= Q1-(1.5 * IQR)\n",
    "    ur= Q3+(1.5 * IQR)\n",
    "    df[cols] = df[cols].mask(df[cols]<lr, lr, )\n",
    "    df[cols] = df[cols].mask(df[cols]>ur, ur, )"
   ]
  },
  {
   "cell_type": "code",
   "execution_count": 24,
   "id": "23de6e8c",
   "metadata": {},
   "outputs": [
    {
     "data": {
      "text/plain": [
       "<AxesSubplot:>"
      ]
     },
     "execution_count": 24,
     "metadata": {},
     "output_type": "execute_result"
    },
    {
     "data": {
      "image/png": "[encoded data removed]",
      "text/plain": [
       "<Figure size 1080x720 with 1 Axes>"
      ]
     },
     "metadata": {
      "needs_background": "light"
     },
     "output_type": "display_data"
    }
   ],
   "source": [
    "plt.rcParams['figure.figsize']=(15,10)\n",
    "sns.boxplot(data=df.drop(df.columns[[0,1]], axis=1), orient=\"h\")\n",
    "\n",
    "# Now our data is free from outliers."
   ]
  },
  {
   "cell_type": "markdown",
   "id": "7e62eb45",
   "metadata": {},
   "source": [
    "# Dummy Encoding"
   ]
  },
  {
   "cell_type": "code",
   "execution_count": 25,
   "id": "b8f38536",
   "metadata": {},
   "outputs": [
    {
     "data": {
      "text/html": [
       "<div>\n",
       "<style scoped>\n",
       "    .dataframe tbody tr th:only-of-type {\n",
       "        vertical-align: middle;\n",
       "    }\n",
       "\n",
       "    .dataframe tbody tr th {\n",
       "        vertical-align: top;\n",
       "    }\n",
       "\n",
       "    .dataframe thead th {\n",
       "        text-align: right;\n",
       "    }\n",
       "</style>\n",
       "<table border=\"1\" class=\"dataframe\">\n",
       "  <thead>\n",
       "    <tr style=\"text-align: right;\">\n",
       "      <th></th>\n",
       "      <th>Churned</th>\n",
       "      <th>Stayed</th>\n",
       "    </tr>\n",
       "  </thead>\n",
       "  <tbody>\n",
       "    <tr>\n",
       "      <th>0</th>\n",
       "      <td>0</td>\n",
       "      <td>1</td>\n",
       "    </tr>\n",
       "    <tr>\n",
       "      <th>1</th>\n",
       "      <td>0</td>\n",
       "      <td>1</td>\n",
       "    </tr>\n",
       "    <tr>\n",
       "      <th>2</th>\n",
       "      <td>1</td>\n",
       "      <td>0</td>\n",
       "    </tr>\n",
       "    <tr>\n",
       "      <th>3</th>\n",
       "      <td>0</td>\n",
       "      <td>1</td>\n",
       "    </tr>\n",
       "    <tr>\n",
       "      <th>4</th>\n",
       "      <td>1</td>\n",
       "      <td>0</td>\n",
       "    </tr>\n",
       "    <tr>\n",
       "      <th>...</th>\n",
       "      <td>...</td>\n",
       "      <td>...</td>\n",
       "    </tr>\n",
       "    <tr>\n",
       "      <th>9995</th>\n",
       "      <td>0</td>\n",
       "      <td>1</td>\n",
       "    </tr>\n",
       "    <tr>\n",
       "      <th>9996</th>\n",
       "      <td>1</td>\n",
       "      <td>0</td>\n",
       "    </tr>\n",
       "    <tr>\n",
       "      <th>9997</th>\n",
       "      <td>1</td>\n",
       "      <td>0</td>\n",
       "    </tr>\n",
       "    <tr>\n",
       "      <th>9998</th>\n",
       "      <td>1</td>\n",
       "      <td>0</td>\n",
       "    </tr>\n",
       "    <tr>\n",
       "      <th>9999</th>\n",
       "      <td>0</td>\n",
       "      <td>1</td>\n",
       "    </tr>\n",
       "  </tbody>\n",
       "</table>\n",
       "<p>10000 rows × 2 columns</p>\n",
       "</div>"
      ],
      "text/plain": [
       "      Churned  Stayed\n",
       "0           0       1\n",
       "1           0       1\n",
       "2           1       0\n",
       "3           0       1\n",
       "4           1       0\n",
       "...       ...     ...\n",
       "9995        0       1\n",
       "9996        1       0\n",
       "9997        1       0\n",
       "9998        1       0\n",
       "9999        0       1\n",
       "\n",
       "[10000 rows x 2 columns]"
      ]
     },
     "execution_count": 25,
     "metadata": {},
     "output_type": "execute_result"
    }
   ],
   "source": [
    "pd.get_dummies(df['churn_status'])"
   ]
  },
  {
   "cell_type": "code",
   "execution_count": 26,
   "id": "9af264de",
   "metadata": {},
   "outputs": [],
   "source": [
    "df = pd.concat([df,pd.get_dummies(df['churn_status'])] , axis = 1)"
   ]
  },
  {
   "cell_type": "code",
   "execution_count": 27,
   "id": "e175ffd5",
   "metadata": {},
   "outputs": [],
   "source": [
    "df.drop(['churn_status','session_length_seconds','Stayed'], axis=1, inplace = True)"
   ]
  },
  {
   "cell_type": "markdown",
   "id": "49df5155",
   "metadata": {},
   "source": [
    "## Descriptive analysis insights"
   ]
  },
  {
   "cell_type": "markdown",
   "id": "b3c60a1e",
   "metadata": {},
   "source": [
    "### Session Count"
   ]
  },
  {
   "cell_type": "code",
   "execution_count": 28,
   "id": "ce3446e2",
   "metadata": {},
   "outputs": [
    {
     "data": {
      "image/png": "[encoded data removed]",
      "text/plain": [
       "<Figure size 720x432 with 1 Axes>"
      ]
     },
     "metadata": {
      "needs_background": "light"
     },
     "output_type": "display_data"
    }
   ],
   "source": [
    "plt.rcParams['figure.figsize']=(10,6)\n",
    "sns.histplot(data=df, x=\"session_count\", hue=\"Churned\", multiple = \"stack\", bins = 5, stat='percent')\n",
    "plt.show()"
   ]
  },
  {
   "cell_type": "markdown",
   "id": "c0642ddd",
   "metadata": {},
   "source": [
    "### Event Count"
   ]
  },
  {
   "cell_type": "code",
   "execution_count": 29,
   "id": "8a98b23e",
   "metadata": {},
   "outputs": [
    {
     "data": {
      "image/png": "[encoded data removed]",
      "text/plain": [
       "<Figure size 720x432 with 1 Axes>"
      ]
     },
     "metadata": {
      "needs_background": "light"
     },
     "output_type": "display_data"
    }
   ],
   "source": [
    "sns.histplot(data=df, x=\"event_count\", hue=\"Churned\", multiple = \"stack\", bins = 3, stat='percent')\n",
    "plt.show()"
   ]
  },
  {
   "cell_type": "markdown",
   "id": "ecaddf40",
   "metadata": {},
   "source": [
    "### Closed Session Event Count"
   ]
  },
  {
   "cell_type": "code",
   "execution_count": 30,
   "id": "19420d05",
   "metadata": {},
   "outputs": [
    {
     "data": {
      "image/png": "[encoded data removed]",
      "text/plain": [
       "<Figure size 720x432 with 1 Axes>"
      ]
     },
     "metadata": {
      "needs_background": "light"
     },
     "output_type": "display_data"
    }
   ],
   "source": [
    "sns.histplot(data=df, x=\"closed_session_event_count\", hue=\"Churned\", multiple = \"stack\", bins = 5, stat='percent')\n",
    "plt.show()"
   ]
  },
  {
   "cell_type": "markdown",
   "id": "71995fb3",
   "metadata": {},
   "source": [
    "### Open Session Event Count"
   ]
  },
  {
   "cell_type": "code",
   "execution_count": 31,
   "id": "d7ab6ef1",
   "metadata": {},
   "outputs": [
    {
     "data": {
      "image/png": "[encoded data removed]",
      "text/plain": [
       "<Figure size 720x432 with 1 Axes>"
      ]
     },
     "metadata": {
      "needs_background": "light"
     },
     "output_type": "display_data"
    }
   ],
   "source": [
    "sns.histplot(data=df, x=\"open_session_event_count\", hue=\"Churned\", multiple = \"stack\", bins = 4, stat='percent')\n",
    "plt.show()"
   ]
  },
  {
   "cell_type": "markdown",
   "id": "6459ff6c",
   "metadata": {},
   "source": [
    "### Quest Completed Event Count"
   ]
  },
  {
   "cell_type": "code",
   "execution_count": 32,
   "id": "014dc4b3",
   "metadata": {},
   "outputs": [
    {
     "data": {
      "image/png": "[encoded data removed]",
      "text/plain": [
       "<Figure size 720x432 with 1 Axes>"
      ]
     },
     "metadata": {
      "needs_background": "light"
     },
     "output_type": "display_data"
    }
   ],
   "source": [
    "sns.histplot(data=df, x=\"quest_completed_event_count\", hue=\"Churned\", multiple = \"stack\", bins = 5, stat='percent')\n",
    "plt.show()"
   ]
  },
  {
   "cell_type": "markdown",
   "id": "a88471b5",
   "metadata": {},
   "source": [
    "### Store Purchase Event Count"
   ]
  },
  {
   "cell_type": "code",
   "execution_count": 33,
   "id": "ed1b4fb1",
   "metadata": {},
   "outputs": [
    {
     "data": {
      "image/png": "[encoded data removed]",
      "text/plain": [
       "<Figure size 720x432 with 1 Axes>"
      ]
     },
     "metadata": {
      "needs_background": "light"
     },
     "output_type": "display_data"
    }
   ],
   "source": [
    "sns.histplot(data=df, x=\"store_purchase_event_count\", hue=\"Churned\", multiple = \"stack\", bins = 3, stat='percent')\n",
    "plt.show()"
   ]
  },
  {
   "cell_type": "markdown",
   "id": "e432efa7",
   "metadata": {},
   "source": [
    "### Active Days"
   ]
  },
  {
   "cell_type": "code",
   "execution_count": 34,
   "id": "0217751f",
   "metadata": {},
   "outputs": [
    {
     "data": {
      "image/png": "[encoded data removed]",
      "text/plain": [
       "<Figure size 720x432 with 1 Axes>"
      ]
     },
     "metadata": {
      "needs_background": "light"
     },
     "output_type": "display_data"
    }
   ],
   "source": [
    "sns.histplot(data=df, x=\"active_days\", hue=\"Churned\", multiple = \"stack\", bins = 5, stat='percent')\n",
    "plt.show()"
   ]
  },
  {
   "cell_type": "markdown",
   "id": "50a98458",
   "metadata": {},
   "source": [
    "### Session length min"
   ]
  },
  {
   "cell_type": "code",
   "execution_count": 35,
   "id": "38f9770f",
   "metadata": {},
   "outputs": [
    {
     "data": {
      "image/png": "[encoded data removed]",
      "text/plain": [
       "<Figure size 720x432 with 1 Axes>"
      ]
     },
     "metadata": {
      "needs_background": "light"
     },
     "output_type": "display_data"
    }
   ],
   "source": [
    "sns.histplot(data=df, x=\"session_length_min\", hue=\"Churned\", multiple = \"stack\", bins = 4, stat='percent')\n",
    "plt.show()"
   ]
  },
  {
   "cell_type": "code",
   "execution_count": 36,
   "id": "19999f02",
   "metadata": {},
   "outputs": [],
   "source": [
    "df_num = df.drop(['Churned'],axis=1)\n",
    "Churned = df['Churned']"
   ]
  },
  {
   "cell_type": "markdown",
   "id": "dcfd4b12",
   "metadata": {},
   "source": [
    "# Normalization"
   ]
  },
  {
   "cell_type": "code",
   "execution_count": 37,
   "id": "f2710346",
   "metadata": {},
   "outputs": [],
   "source": [
    "df_num_norm = stats.zscore(df_num)"
   ]
  },
  {
   "cell_type": "code",
   "execution_count": 38,
   "id": "7a04c839",
   "metadata": {},
   "outputs": [],
   "source": [
    "df_norm = pd.concat([Churned,df_num_norm] , axis = 1)"
   ]
  },
  {
   "cell_type": "code",
   "execution_count": 39,
   "id": "d9372041",
   "metadata": {},
   "outputs": [
    {
     "data": {
      "text/html": [
       "<div>\n",
       "<style scoped>\n",
       "    .dataframe tbody tr th:only-of-type {\n",
       "        vertical-align: middle;\n",
       "    }\n",
       "\n",
       "    .dataframe tbody tr th {\n",
       "        vertical-align: top;\n",
       "    }\n",
       "\n",
       "    .dataframe thead th {\n",
       "        text-align: right;\n",
       "    }\n",
       "</style>\n",
       "<table border=\"1\" class=\"dataframe\">\n",
       "  <thead>\n",
       "    <tr style=\"text-align: right;\">\n",
       "      <th></th>\n",
       "      <th>Churned</th>\n",
       "      <th>session_count</th>\n",
       "      <th>event_count</th>\n",
       "      <th>closed_session_event_count</th>\n",
       "      <th>open_session_event_count</th>\n",
       "      <th>quest_completed_event_count</th>\n",
       "      <th>store_purchase_event_count</th>\n",
       "      <th>active_days</th>\n",
       "      <th>session_length_min</th>\n",
       "    </tr>\n",
       "  </thead>\n",
       "  <tbody>\n",
       "    <tr>\n",
       "      <th>0</th>\n",
       "      <td>0</td>\n",
       "      <td>-0.13047</td>\n",
       "      <td>-0.32098</td>\n",
       "      <td>-0.26982</td>\n",
       "      <td>-0.26474</td>\n",
       "      <td>-0.22727</td>\n",
       "      <td>-0.67254</td>\n",
       "      <td>0.95994</td>\n",
       "      <td>-0.17490</td>\n",
       "    </tr>\n",
       "    <tr>\n",
       "      <th>1</th>\n",
       "      <td>0</td>\n",
       "      <td>-0.41975</td>\n",
       "      <td>-0.44268</td>\n",
       "      <td>-0.26982</td>\n",
       "      <td>-0.27430</td>\n",
       "      <td>-0.23823</td>\n",
       "      <td>-0.67254</td>\n",
       "      <td>-0.13604</td>\n",
       "      <td>-0.23754</td>\n",
       "    </tr>\n",
       "    <tr>\n",
       "      <th>2</th>\n",
       "      <td>1</td>\n",
       "      <td>0.75261</td>\n",
       "      <td>0.34833</td>\n",
       "      <td>1.26792</td>\n",
       "      <td>1.28358</td>\n",
       "      <td>-0.19440</td>\n",
       "      <td>0.05946</td>\n",
       "      <td>-0.19693</td>\n",
       "      <td>0.75046</td>\n",
       "    </tr>\n",
       "    <tr>\n",
       "      <th>3</th>\n",
       "      <td>0</td>\n",
       "      <td>2.15336</td>\n",
       "      <td>2.17216</td>\n",
       "      <td>1.78999</td>\n",
       "      <td>1.76145</td>\n",
       "      <td>2.01868</td>\n",
       "      <td>1.52346</td>\n",
       "      <td>2.29948</td>\n",
       "      <td>2.13321</td>\n",
       "    </tr>\n",
       "    <tr>\n",
       "      <th>4</th>\n",
       "      <td>1</td>\n",
       "      <td>-0.22182</td>\n",
       "      <td>-0.40835</td>\n",
       "      <td>-0.27931</td>\n",
       "      <td>-0.28385</td>\n",
       "      <td>-0.51212</td>\n",
       "      <td>-0.67254</td>\n",
       "      <td>0.04662</td>\n",
       "      <td>-0.35648</td>\n",
       "    </tr>\n",
       "  </tbody>\n",
       "</table>\n",
       "</div>"
      ],
      "text/plain": [
       "   Churned  session_count  event_count  closed_session_event_count  \\\n",
       "0        0       -0.13047     -0.32098                    -0.26982   \n",
       "1        0       -0.41975     -0.44268                    -0.26982   \n",
       "2        1        0.75261      0.34833                     1.26792   \n",
       "3        0        2.15336      2.17216                     1.78999   \n",
       "4        1       -0.22182     -0.40835                    -0.27931   \n",
       "\n",
       "   open_session_event_count  quest_completed_event_count  \\\n",
       "0                  -0.26474                     -0.22727   \n",
       "1                  -0.27430                     -0.23823   \n",
       "2                   1.28358                     -0.19440   \n",
       "3                   1.76145                      2.01868   \n",
       "4                  -0.28385                     -0.51212   \n",
       "\n",
       "   store_purchase_event_count  active_days  session_length_min  \n",
       "0                    -0.67254      0.95994            -0.17490  \n",
       "1                    -0.67254     -0.13604            -0.23754  \n",
       "2                     0.05946     -0.19693             0.75046  \n",
       "3                     1.52346      2.29948             2.13321  \n",
       "4                    -0.67254      0.04662            -0.35648  "
      ]
     },
     "execution_count": 39,
     "metadata": {},
     "output_type": "execute_result"
    }
   ],
   "source": [
    "df_norm.head()"
   ]
  },
  {
   "cell_type": "code",
   "execution_count": 40,
   "id": "d2577280",
   "metadata": {},
   "outputs": [],
   "source": [
    "import numpy as np\n",
    "import statsmodels.api as sm\n",
    "import statsmodels.formula.api as smf\n"
   ]
  },
  {
   "cell_type": "markdown",
   "id": "aa6d88c4",
   "metadata": {},
   "source": [
    "# MultiCollinearity"
   ]
  },
  {
   "cell_type": "markdown",
   "id": "a505277b",
   "metadata": {},
   "source": [
    "# VIF"
   ]
  },
  {
   "cell_type": "code",
   "execution_count": 41,
   "id": "f4b52692",
   "metadata": {},
   "outputs": [],
   "source": [
    "\n",
    "from statsmodels.stats.outliers_influence import variance_inflation_factor\n",
    "from statsmodels.tools.tools import add_constant\n",
    "def compute_vif(considered_features):   \n",
    "    v = df_norm[considered_features]\n",
    "    v['intercept'] = 1\n",
    "    \n",
    "    vif = pd.DataFrame()\n",
    "    vif[\"Variable\"] = v.columns\n",
    "    vif[\"VIF\"] = [variance_inflation_factor(v.values, i) for i in range(v.shape[1])]\n",
    "    vif = vif[vif['Variable']!= 'intercept']\n",
    "    return vif"
   ]
  },
  {
   "cell_type": "code",
   "execution_count": 42,
   "id": "ed364222",
   "metadata": {},
   "outputs": [],
   "source": [
    "considered_features = ['session_length_min', 'session_count', 'event_count','closed_session_event_count','open_session_event_count','quest_completed_event_count','active_days']"
   ]
  },
  {
   "cell_type": "markdown",
   "id": "f1d5eb3e",
   "metadata": {},
   "source": [
    "### VIF VALUES INTERPRETATION\n",
    "#### 1 = not correlated.\n",
    "####  Between 1 and 5 = moderately correlated.\n",
    "#### Greater than 5 = highly correlated."
   ]
  },
  {
   "cell_type": "code",
   "execution_count": 43,
   "id": "a13f6f48",
   "metadata": {},
   "outputs": [
    {
     "data": {
      "text/html": [
       "<div>\n",
       "<style scoped>\n",
       "    .dataframe tbody tr th:only-of-type {\n",
       "        vertical-align: middle;\n",
       "    }\n",
       "\n",
       "    .dataframe tbody tr th {\n",
       "        vertical-align: top;\n",
       "    }\n",
       "\n",
       "    .dataframe thead th {\n",
       "        text-align: right;\n",
       "    }\n",
       "</style>\n",
       "<table border=\"1\" class=\"dataframe\">\n",
       "  <thead>\n",
       "    <tr style=\"text-align: right;\">\n",
       "      <th></th>\n",
       "      <th>Variable</th>\n",
       "      <th>VIF</th>\n",
       "    </tr>\n",
       "  </thead>\n",
       "  <tbody>\n",
       "    <tr>\n",
       "      <th>3</th>\n",
       "      <td>closed_session_event_count</td>\n",
       "      <td>4110.09613</td>\n",
       "    </tr>\n",
       "    <tr>\n",
       "      <th>4</th>\n",
       "      <td>open_session_event_count</td>\n",
       "      <td>4061.51495</td>\n",
       "    </tr>\n",
       "    <tr>\n",
       "      <th>2</th>\n",
       "      <td>event_count</td>\n",
       "      <td>36.56753</td>\n",
       "    </tr>\n",
       "    <tr>\n",
       "      <th>1</th>\n",
       "      <td>session_count</td>\n",
       "      <td>34.21109</td>\n",
       "    </tr>\n",
       "    <tr>\n",
       "      <th>0</th>\n",
       "      <td>session_length_min</td>\n",
       "      <td>24.16828</td>\n",
       "    </tr>\n",
       "    <tr>\n",
       "      <th>6</th>\n",
       "      <td>active_days</td>\n",
       "      <td>7.22121</td>\n",
       "    </tr>\n",
       "    <tr>\n",
       "      <th>5</th>\n",
       "      <td>quest_completed_event_count</td>\n",
       "      <td>6.66862</td>\n",
       "    </tr>\n",
       "  </tbody>\n",
       "</table>\n",
       "</div>"
      ],
      "text/plain": [
       "                      Variable        VIF\n",
       "3   closed_session_event_count 4110.09613\n",
       "4     open_session_event_count 4061.51495\n",
       "2                  event_count   36.56753\n",
       "1                session_count   34.21109\n",
       "0           session_length_min   24.16828\n",
       "6                  active_days    7.22121\n",
       "5  quest_completed_event_count    6.66862"
      ]
     },
     "execution_count": 43,
     "metadata": {},
     "output_type": "execute_result"
    }
   ],
   "source": [
    "compute_vif(considered_features).sort_values('VIF', ascending=False)"
   ]
  },
  {
   "cell_type": "code",
   "execution_count": 44,
   "id": "46e5a2e0",
   "metadata": {},
   "outputs": [],
   "source": [
    "## Dropping Open Session Event Count\n",
    "df_norm.drop(df_norm.columns[4], axis =1,inplace = True)"
   ]
  },
  {
   "cell_type": "code",
   "execution_count": 45,
   "id": "1dab2b67",
   "metadata": {},
   "outputs": [],
   "source": [
    "df_num = df_num.drop(['open_session_event_count','store_purchase_event_count'], axis=1)"
   ]
  },
  {
   "cell_type": "code",
   "execution_count": 46,
   "id": "505738c5",
   "metadata": {},
   "outputs": [
    {
     "data": {
      "text/html": [
       "<div>\n",
       "<style scoped>\n",
       "    .dataframe tbody tr th:only-of-type {\n",
       "        vertical-align: middle;\n",
       "    }\n",
       "\n",
       "    .dataframe tbody tr th {\n",
       "        vertical-align: top;\n",
       "    }\n",
       "\n",
       "    .dataframe thead th {\n",
       "        text-align: right;\n",
       "    }\n",
       "</style>\n",
       "<table border=\"1\" class=\"dataframe\">\n",
       "  <thead>\n",
       "    <tr style=\"text-align: right;\">\n",
       "      <th></th>\n",
       "      <th>Variable</th>\n",
       "      <th>VIF</th>\n",
       "    </tr>\n",
       "  </thead>\n",
       "  <tbody>\n",
       "    <tr>\n",
       "      <th>2</th>\n",
       "      <td>closed_session_event_count</td>\n",
       "      <td>43.17030</td>\n",
       "    </tr>\n",
       "    <tr>\n",
       "      <th>1</th>\n",
       "      <td>event_count</td>\n",
       "      <td>36.48689</td>\n",
       "    </tr>\n",
       "    <tr>\n",
       "      <th>0</th>\n",
       "      <td>session_count</td>\n",
       "      <td>33.64891</td>\n",
       "    </tr>\n",
       "    <tr>\n",
       "      <th>5</th>\n",
       "      <td>session_length_min</td>\n",
       "      <td>23.63024</td>\n",
       "    </tr>\n",
       "    <tr>\n",
       "      <th>4</th>\n",
       "      <td>active_days</td>\n",
       "      <td>7.03553</td>\n",
       "    </tr>\n",
       "    <tr>\n",
       "      <th>3</th>\n",
       "      <td>quest_completed_event_count</td>\n",
       "      <td>6.66817</td>\n",
       "    </tr>\n",
       "  </tbody>\n",
       "</table>\n",
       "</div>"
      ],
      "text/plain": [
       "                      Variable      VIF\n",
       "2   closed_session_event_count 43.17030\n",
       "1                  event_count 36.48689\n",
       "0                session_count 33.64891\n",
       "5           session_length_min 23.63024\n",
       "4                  active_days  7.03553\n",
       "3  quest_completed_event_count  6.66817"
      ]
     },
     "execution_count": 46,
     "metadata": {},
     "output_type": "execute_result"
    }
   ],
   "source": [
    "considered_features = ['session_count','event_count','closed_session_event_count','quest_completed_event_count','active_days','session_length_min']\n",
    "compute_vif(considered_features).sort_values('VIF', ascending=False)"
   ]
  },
  {
   "cell_type": "code",
   "execution_count": 47,
   "id": "b30a81fd",
   "metadata": {},
   "outputs": [],
   "source": [
    "## Dropping Event Count\n",
    "df_norm.drop(['event_count'],axis =1, inplace =True)"
   ]
  },
  {
   "cell_type": "code",
   "execution_count": 48,
   "id": "04e41aab",
   "metadata": {},
   "outputs": [],
   "source": [
    "df_num = df_num.drop(['event_count'], axis=1)"
   ]
  },
  {
   "cell_type": "code",
   "execution_count": 49,
   "id": "86bd5449",
   "metadata": {},
   "outputs": [
    {
     "data": {
      "text/html": [
       "<div>\n",
       "<style scoped>\n",
       "    .dataframe tbody tr th:only-of-type {\n",
       "        vertical-align: middle;\n",
       "    }\n",
       "\n",
       "    .dataframe tbody tr th {\n",
       "        vertical-align: top;\n",
       "    }\n",
       "\n",
       "    .dataframe thead th {\n",
       "        text-align: right;\n",
       "    }\n",
       "</style>\n",
       "<table border=\"1\" class=\"dataframe\">\n",
       "  <thead>\n",
       "    <tr style=\"text-align: right;\">\n",
       "      <th></th>\n",
       "      <th>Variable</th>\n",
       "      <th>VIF</th>\n",
       "    </tr>\n",
       "  </thead>\n",
       "  <tbody>\n",
       "    <tr>\n",
       "      <th>1</th>\n",
       "      <td>closed_session_event_count</td>\n",
       "      <td>39.97165</td>\n",
       "    </tr>\n",
       "    <tr>\n",
       "      <th>0</th>\n",
       "      <td>session_count</td>\n",
       "      <td>33.42925</td>\n",
       "    </tr>\n",
       "    <tr>\n",
       "      <th>4</th>\n",
       "      <td>session_length_min</td>\n",
       "      <td>17.02831</td>\n",
       "    </tr>\n",
       "    <tr>\n",
       "      <th>3</th>\n",
       "      <td>active_days</td>\n",
       "      <td>7.03533</td>\n",
       "    </tr>\n",
       "    <tr>\n",
       "      <th>2</th>\n",
       "      <td>quest_completed_event_count</td>\n",
       "      <td>4.89242</td>\n",
       "    </tr>\n",
       "  </tbody>\n",
       "</table>\n",
       "</div>"
      ],
      "text/plain": [
       "                      Variable      VIF\n",
       "1   closed_session_event_count 39.97165\n",
       "0                session_count 33.42925\n",
       "4           session_length_min 17.02831\n",
       "3                  active_days  7.03533\n",
       "2  quest_completed_event_count  4.89242"
      ]
     },
     "execution_count": 49,
     "metadata": {},
     "output_type": "execute_result"
    }
   ],
   "source": [
    "considered_features = ['session_count','closed_session_event_count','quest_completed_event_count','active_days','session_length_min']\n",
    "compute_vif(considered_features).sort_values('VIF', ascending=False)"
   ]
  },
  {
   "cell_type": "code",
   "execution_count": 50,
   "id": "c5501cc8",
   "metadata": {},
   "outputs": [
    {
     "name": "stdout",
     "output_type": "stream",
     "text": [
      "<class 'pandas.core.frame.DataFrame'>\n",
      "RangeIndex: 10000 entries, 0 to 9999\n",
      "Data columns (total 6 columns):\n",
      " #   Column                       Non-Null Count  Dtype  \n",
      "---  ------                       --------------  -----  \n",
      " 0   Churned                      10000 non-null  uint8  \n",
      " 1   session_count                10000 non-null  float64\n",
      " 2   quest_completed_event_count  10000 non-null  float64\n",
      " 3   store_purchase_event_count   10000 non-null  float64\n",
      " 4   active_days                  10000 non-null  float64\n",
      " 5   session_length_min           10000 non-null  float64\n",
      "dtypes: float64(5), uint8(1)\n",
      "memory usage: 400.5 KB\n"
     ]
    }
   ],
   "source": [
    "## Dropping CLosed Session Event Count\n",
    "df_norm.drop(['closed_session_event_count'],axis =1, inplace =True)\n",
    "df_norm.info()"
   ]
  },
  {
   "cell_type": "code",
   "execution_count": 51,
   "id": "3ac48926",
   "metadata": {
    "scrolled": true
   },
   "outputs": [],
   "source": [
    "df_num = df_num.drop(['closed_session_event_count'], axis=1)"
   ]
  },
  {
   "cell_type": "code",
   "execution_count": 52,
   "id": "c85c44db",
   "metadata": {},
   "outputs": [
    {
     "data": {
      "text/html": [
       "<div>\n",
       "<style scoped>\n",
       "    .dataframe tbody tr th:only-of-type {\n",
       "        vertical-align: middle;\n",
       "    }\n",
       "\n",
       "    .dataframe tbody tr th {\n",
       "        vertical-align: top;\n",
       "    }\n",
       "\n",
       "    .dataframe thead th {\n",
       "        text-align: right;\n",
       "    }\n",
       "</style>\n",
       "<table border=\"1\" class=\"dataframe\">\n",
       "  <thead>\n",
       "    <tr style=\"text-align: right;\">\n",
       "      <th></th>\n",
       "      <th>Variable</th>\n",
       "      <th>VIF</th>\n",
       "    </tr>\n",
       "  </thead>\n",
       "  <tbody>\n",
       "    <tr>\n",
       "      <th>0</th>\n",
       "      <td>session_count</td>\n",
       "      <td>14.62763</td>\n",
       "    </tr>\n",
       "    <tr>\n",
       "      <th>3</th>\n",
       "      <td>session_length_min</td>\n",
       "      <td>10.07739</td>\n",
       "    </tr>\n",
       "    <tr>\n",
       "      <th>2</th>\n",
       "      <td>active_days</td>\n",
       "      <td>6.95173</td>\n",
       "    </tr>\n",
       "    <tr>\n",
       "      <th>1</th>\n",
       "      <td>quest_completed_event_count</td>\n",
       "      <td>4.75275</td>\n",
       "    </tr>\n",
       "  </tbody>\n",
       "</table>\n",
       "</div>"
      ],
      "text/plain": [
       "                      Variable      VIF\n",
       "0                session_count 14.62763\n",
       "3           session_length_min 10.07739\n",
       "2                  active_days  6.95173\n",
       "1  quest_completed_event_count  4.75275"
      ]
     },
     "execution_count": 52,
     "metadata": {},
     "output_type": "execute_result"
    }
   ],
   "source": [
    "considered_features = ['session_count','quest_completed_event_count','active_days','session_length_min']\n",
    "compute_vif(considered_features).sort_values('VIF', ascending=False)"
   ]
  },
  {
   "cell_type": "markdown",
   "id": "82e9c224",
   "metadata": {},
   "source": [
    "# Linear Regression\n",
    "#### Predict an item would be purchased by customer or not (store_purchase_event_count)"
   ]
  },
  {
   "cell_type": "code",
   "execution_count": 53,
   "id": "ac5a1cbc",
   "metadata": {},
   "outputs": [],
   "source": [
    "x = df_norm.drop(df_norm.columns[[3]], axis=1)\n",
    "X = sm.add_constant(x)\n",
    "y = df_norm['store_purchase_event_count']"
   ]
  },
  {
   "cell_type": "code",
   "execution_count": 54,
   "id": "3b36f315",
   "metadata": {},
   "outputs": [],
   "source": [
    "model_2 = sm.OLS(y, X).fit() "
   ]
  },
  {
   "cell_type": "code",
   "execution_count": 55,
   "id": "fd01178e",
   "metadata": {},
   "outputs": [
    {
     "data": {
      "text/html": [
       "<table class=\"simpletable\">\n",
       "<caption>OLS Regression Results</caption>\n",
       "<tr>\n",
       "  <th>Dep. Variable:</th>    <td>store_purchase_event_count</td> <th>  R-squared:         </th> <td>   0.615</td> \n",
       "</tr>\n",
       "<tr>\n",
       "  <th>Model:</th>                        <td>OLS</td>            <th>  Adj. R-squared:    </th> <td>   0.615</td> \n",
       "</tr>\n",
       "<tr>\n",
       "  <th>Method:</th>                  <td>Least Squares</td>       <th>  F-statistic:       </th> <td>   3196.</td> \n",
       "</tr>\n",
       "<tr>\n",
       "  <th>Date:</th>                  <td>Sat, 19 Nov 2022</td>      <th>  Prob (F-statistic):</th>  <td>  0.00</td>  \n",
       "</tr>\n",
       "<tr>\n",
       "  <th>Time:</th>                      <td>18:06:36</td>          <th>  Log-Likelihood:    </th> <td> -9413.6</td> \n",
       "</tr>\n",
       "<tr>\n",
       "  <th>No. Observations:</th>           <td> 10000</td>           <th>  AIC:               </th> <td>1.884e+04</td>\n",
       "</tr>\n",
       "<tr>\n",
       "  <th>Df Residuals:</th>               <td>  9994</td>           <th>  BIC:               </th> <td>1.888e+04</td>\n",
       "</tr>\n",
       "<tr>\n",
       "  <th>Df Model:</th>                   <td>     5</td>           <th>                     </th>     <td> </td>    \n",
       "</tr>\n",
       "<tr>\n",
       "  <th>Covariance Type:</th>           <td>nonrobust</td>         <th>                     </th>     <td> </td>    \n",
       "</tr>\n",
       "</table>\n",
       "<table class=\"simpletable\">\n",
       "<tr>\n",
       "               <td></td>                  <th>coef</th>     <th>std err</th>      <th>t</th>      <th>P>|t|</th>  <th>[0.025</th>    <th>0.975]</th>  \n",
       "</tr>\n",
       "<tr>\n",
       "  <th>const</th>                       <td>    0.0221</td> <td>    0.009</td> <td>    2.389</td> <td> 0.017</td> <td>    0.004</td> <td>    0.040</td>\n",
       "</tr>\n",
       "<tr>\n",
       "  <th>Churned</th>                     <td>   -0.0463</td> <td>    0.014</td> <td>   -3.220</td> <td> 0.001</td> <td>   -0.075</td> <td>   -0.018</td>\n",
       "</tr>\n",
       "<tr>\n",
       "  <th>session_count</th>               <td>    0.4036</td> <td>    0.024</td> <td>   16.981</td> <td> 0.000</td> <td>    0.357</td> <td>    0.450</td>\n",
       "</tr>\n",
       "<tr>\n",
       "  <th>quest_completed_event_count</th> <td>    0.0032</td> <td>    0.014</td> <td>    0.239</td> <td> 0.811</td> <td>   -0.023</td> <td>    0.030</td>\n",
       "</tr>\n",
       "<tr>\n",
       "  <th>active_days</th>                 <td>    0.1220</td> <td>    0.017</td> <td>    7.332</td> <td> 0.000</td> <td>    0.089</td> <td>    0.155</td>\n",
       "</tr>\n",
       "<tr>\n",
       "  <th>session_length_min</th>          <td>    0.2722</td> <td>    0.020</td> <td>   13.752</td> <td> 0.000</td> <td>    0.233</td> <td>    0.311</td>\n",
       "</tr>\n",
       "</table>\n",
       "<table class=\"simpletable\">\n",
       "<tr>\n",
       "  <th>Omnibus:</th>       <td>781.573</td> <th>  Durbin-Watson:     </th> <td>   1.984</td>\n",
       "</tr>\n",
       "<tr>\n",
       "  <th>Prob(Omnibus):</th> <td> 0.000</td>  <th>  Jarque-Bera (JB):  </th> <td>3771.642</td>\n",
       "</tr>\n",
       "<tr>\n",
       "  <th>Skew:</th>          <td> 0.219</td>  <th>  Prob(JB):          </th> <td>    0.00</td>\n",
       "</tr>\n",
       "<tr>\n",
       "  <th>Kurtosis:</th>      <td> 5.977</td>  <th>  Cond. No.          </th> <td>    9.41</td>\n",
       "</tr>\n",
       "</table><br/><br/>Notes:<br/>[1] Standard Errors assume that the covariance matrix of the errors is correctly specified."
      ],
      "text/plain": [
       "<class 'statsmodels.iolib.summary.Summary'>\n",
       "\"\"\"\n",
       "                                OLS Regression Results                                \n",
       "======================================================================================\n",
       "Dep. Variable:     store_purchase_event_count   R-squared:                       0.615\n",
       "Model:                                    OLS   Adj. R-squared:                  0.615\n",
       "Method:                         Least Squares   F-statistic:                     3196.\n",
       "Date:                        Sat, 19 Nov 2022   Prob (F-statistic):               0.00\n",
       "Time:                                18:06:36   Log-Likelihood:                -9413.6\n",
       "No. Observations:                       10000   AIC:                         1.884e+04\n",
       "Df Residuals:                            9994   BIC:                         1.888e+04\n",
       "Df Model:                                   5                                         \n",
       "Covariance Type:                    nonrobust                                         \n",
       "===============================================================================================\n",
       "                                  coef    std err          t      P>|t|      [0.025      0.975]\n",
       "-----------------------------------------------------------------------------------------------\n",
       "const                           0.0221      0.009      2.389      0.017       0.004       0.040\n",
       "Churned                        -0.0463      0.014     -3.220      0.001      -0.075      -0.018\n",
       "session_count                   0.4036      0.024     16.981      0.000       0.357       0.450\n",
       "quest_completed_event_count     0.0032      0.014      0.239      0.811      -0.023       0.030\n",
       "active_days                     0.1220      0.017      7.332      0.000       0.089       0.155\n",
       "session_length_min              0.2722      0.020     13.752      0.000       0.233       0.311\n",
       "==============================================================================\n",
       "Omnibus:                      781.573   Durbin-Watson:                   1.984\n",
       "Prob(Omnibus):                  0.000   Jarque-Bera (JB):             3771.642\n",
       "Skew:                           0.219   Prob(JB):                         0.00\n",
       "Kurtosis:                       5.977   Cond. No.                         9.41\n",
       "==============================================================================\n",
       "\n",
       "Notes:\n",
       "[1] Standard Errors assume that the covariance matrix of the errors is correctly specified.\n",
       "\"\"\""
      ]
     },
     "execution_count": 55,
     "metadata": {},
     "output_type": "execute_result"
    }
   ],
   "source": [
    "model_2.summary()"
   ]
  },
  {
   "cell_type": "markdown",
   "id": "d1896629",
   "metadata": {},
   "source": [
    "# Logistics Regreesion"
   ]
  },
  {
   "cell_type": "code",
   "execution_count": 56,
   "id": "87377355",
   "metadata": {},
   "outputs": [],
   "source": [
    "data = df_norm"
   ]
  },
  {
   "cell_type": "code",
   "execution_count": 57,
   "id": "10bbffff",
   "metadata": {},
   "outputs": [],
   "source": [
    "X = data.drop(['Churned'],axis=1)\n",
    "y = data['Churned']"
   ]
  },
  {
   "cell_type": "code",
   "execution_count": 58,
   "id": "4b44420b",
   "metadata": {},
   "outputs": [],
   "source": [
    "from sklearn.model_selection import train_test_split\n",
    "X_train, X_test, y_train, y_test = train_test_split(X,y, test_size = 0.2, random_state = 0)"
   ]
  },
  {
   "cell_type": "code",
   "execution_count": 59,
   "id": "4fc04dd6",
   "metadata": {},
   "outputs": [],
   "source": [
    "from sklearn.preprocessing import StandardScaler\n",
    "scaler = StandardScaler()\n",
    "X_train = scaler.fit_transform(X_train)"
   ]
  },
  {
   "cell_type": "code",
   "execution_count": 60,
   "id": "1a5abe4b",
   "metadata": {},
   "outputs": [],
   "source": [
    "X_test = scaler.transform(X_test)"
   ]
  },
  {
   "cell_type": "code",
   "execution_count": 61,
   "id": "73c33ce2",
   "metadata": {},
   "outputs": [
    {
     "data": {
      "text/plain": [
       "LogisticRegression(random_state=0, solver='liblinear')"
      ]
     },
     "execution_count": 61,
     "metadata": {},
     "output_type": "execute_result"
    }
   ],
   "source": [
    "from sklearn.linear_model import LogisticRegression\n",
    "classifier_logreg = LogisticRegression(solver='liblinear', random_state=0)\n",
    "classifier_logreg.fit(X_train, y_train)"
   ]
  },
  {
   "cell_type": "markdown",
   "id": "4df4641e",
   "metadata": {},
   "source": [
    "# Train Data"
   ]
  },
  {
   "cell_type": "code",
   "execution_count": 62,
   "id": "842c2907",
   "metadata": {},
   "outputs": [
    {
     "data": {
      "image/png": "[encoded data removed]",
      "text/plain": [
       "<Figure size 432x288 with 1 Axes>"
      ]
     },
     "metadata": {
      "needs_background": "light"
     },
     "output_type": "display_data"
    }
   ],
   "source": [
    "## Train Data\n",
    "\n",
    "y_pred_logreg_proba = classifier_logreg.predict_proba(X_test)\n",
    "\n",
    "from sklearn.metrics import roc_curve\n",
    "fpr, tpr, thresholds = roc_curve(y_test, y_pred_logreg_proba[:,1])\n",
    "plt.figure(figsize=(6,4))\n",
    "plt.plot(fpr,tpr,'-g',linewidth=1)\n",
    "plt.plot([0,1], [0,1], 'k--' )\n",
    "plt.title('ROC curve for Logistic Regression Model')\n",
    "plt.xlabel(\"False Positive Rate\")\n",
    "plt.ylabel('True Positive Rate')\n",
    "plt.show()\n",
    "\n",
    "y_pred_logreg_proba_train = classifier_logreg.predict_proba(X_train)\n",
    "\n",
    "#pd.DataFrame({\"fpr\":fpr, \"tpr\":tpr, \"threshold\":thresholds})"
   ]
  },
  {
   "cell_type": "code",
   "execution_count": 83,
   "id": "1443e843",
   "metadata": {},
   "outputs": [
    {
     "name": "stdout",
     "output_type": "stream",
     "text": [
      "Logistics Regression\n",
      "Train Data\n",
      "--------------------------------------------------\n",
      "Accuracy: 0.6616\n",
      "Mis-Classification: 0.3384\n",
      "Sensitivity: 0.9612\n",
      "Specificity: 0.3885\n",
      "Precision: 0.3885\n",
      "f_1 Score: 0.5534\n"
     ]
    },
    {
     "data": {
      "image/png": "[encoded data removed]",
      "text/plain": [
       "<Figure size 432x288 with 2 Axes>"
      ]
     },
     "metadata": {
      "needs_background": "light"
     },
     "output_type": "display_data"
    }
   ],
   "source": [
    "thresholds[np.argmax(tpr - fpr)]\n",
    "\n",
    "pred_proba_train = y_pred_logreg_proba_train[:,1]\n",
    "\n",
    "preds_train = np.where(pred_proba_train>0.18, 1, 0)\n",
    "\n",
    "from sklearn.metrics import confusion_matrix,accuracy_score\n",
    "\n",
    "plt.figure(figsize=(6,4))\n",
    "cm_train = confusion_matrix(y_train, preds_train)\n",
    "s = sns.heatmap(cm_train ,annot=True ,fmt='d')\n",
    "s.set(xlabel='Predicted', ylabel='Actual')\n",
    "print('Logistics Regression')\n",
    "print('Train Data')\n",
    "\n",
    "TP = cm_train[1][1]\n",
    "TN = cm_train[0][0]\n",
    "FP = cm_train[0][1]\n",
    "FN = cm_train[1][0]\n",
    "\n",
    "    # calculate accuracy\n",
    "conf_accuracy = (float (TP+TN) / float(TP + TN + FP + FN))\n",
    "    \n",
    "    # calculate mis-classification\n",
    "conf_misclassification = 1- conf_accuracy\n",
    "    \n",
    "    # calculate the sensitivity\n",
    "conf_sensitivity = (TP / float(TP + FN))\n",
    "    # calculate the specificity\n",
    "conf_specificity = (TN / float(TN + FP))\n",
    "    \n",
    "    # calculate precision\n",
    "conf_precision = (TN / float(TN + FP))\n",
    "    # calculate f_1 score\n",
    "conf_f1 = 2 * ((conf_precision * conf_sensitivity) / (conf_precision + conf_sensitivity))\n",
    "print('-'*50)\n",
    "print(f'Accuracy: {round(conf_accuracy,4)}') \n",
    "print(f'Mis-Classification: {round(conf_misclassification,4)}') \n",
    "print(f'Sensitivity: {round(conf_sensitivity,4)}') \n",
    "print(f'Specificity: {round(conf_specificity,4)}') \n",
    "print(f'Precision: {round(conf_precision,4)}')\n",
    "print(f'f_1 Score: {round(conf_f1,4)}')"
   ]
  },
  {
   "cell_type": "markdown",
   "id": "6df54acd",
   "metadata": {},
   "source": [
    "# Test Data"
   ]
  },
  {
   "cell_type": "code",
   "execution_count": 84,
   "id": "e578f100",
   "metadata": {},
   "outputs": [
    {
     "data": {
      "image/png": "[encoded data removed]",
      "text/plain": [
       "<Figure size 432x288 with 1 Axes>"
      ]
     },
     "metadata": {
      "needs_background": "light"
     },
     "output_type": "display_data"
    },
    {
     "name": "stdout",
     "output_type": "stream",
     "text": [
      "Logistics Regression\n",
      "Test Data\n",
      "--------------------------------------------------\n",
      "Accuracy: 0.667\n",
      "Mis-Classification: 0.333\n",
      "Sensitivity: 0.9551\n",
      "Specificity: 0.4021\n",
      "Precision: 0.4021\n",
      "f_1 Score: 0.566\n"
     ]
    },
    {
     "data": {
      "image/png": "[encoded data removed]",
      "text/plain": [
       "<Figure size 432x288 with 2 Axes>"
      ]
     },
     "metadata": {
      "needs_background": "light"
     },
     "output_type": "display_data"
    }
   ],
   "source": [
    "## Test Data\n",
    "\n",
    "y_pred_logreg_proba = classifier_logreg.predict_proba(X_test)\n",
    "from sklearn.metrics import roc_curve\n",
    "fpr, tpr, thresholds = roc_curve(y_test, y_pred_logreg_proba[:,1])\n",
    "plt.figure(figsize=(6,4))\n",
    "plt.plot(fpr,tpr,'-g',linewidth=1)\n",
    "plt.plot([0,1], [0,1], 'k--' )\n",
    "plt.title('ROC curve for Logistic Regression Model')\n",
    "plt.xlabel(\"False Positive Rate\")\n",
    "plt.ylabel('True Positive Rate')\n",
    "plt.show()\n",
    "\n",
    "\n",
    "pd.DataFrame({\"fpr\":fpr, \"tpr\":tpr, \"threshold\":thresholds})\n",
    "\n",
    "thresholds[np.argmax(tpr - fpr)]\n",
    "\n",
    "pred_proba = y_pred_logreg_proba[:,1]\n",
    "\n",
    "preds = np.where(pred_proba>0.18, 1, 0)\n",
    "\n",
    "from sklearn.metrics import confusion_matrix,accuracy_score\n",
    "\n",
    "plt.figure(figsize=(6,4))\n",
    "cm = confusion_matrix(y_test, preds)\n",
    "s = sns.heatmap(cm ,annot=True ,fmt='d')\n",
    "s.set(xlabel='Predicted', ylabel='Actual')\n",
    "print('Logistics Regression')\n",
    "print('Test Data')\n",
    "\n",
    "TP = cm[1][1]\n",
    "TN = cm[0][0]\n",
    "FP = cm[0][1]\n",
    "FN = cm[1][0]\n",
    "    # calculate accuracy\n",
    "conf_accuracy = (float (TP+TN) / float(TP + TN + FP + FN))\n",
    "    \n",
    "    # calculate mis-classification\n",
    "conf_misclassification = 1- conf_accuracy\n",
    "    \n",
    "    # calculate the sensitivity\n",
    "conf_sensitivity = (TP / float(TP + FN))\n",
    "    # calculate the specificity\n",
    "conf_specificity = (TN / float(TN + FP))\n",
    "    \n",
    "    # calculate precision\n",
    "conf_precision = (TN / float(TN + FP))\n",
    "    # calculate f_1 score\n",
    "conf_f1 = 2 * ((conf_precision * conf_sensitivity) / (conf_precision + conf_sensitivity))\n",
    "print('-'*50)\n",
    "print(f'Accuracy: {round(conf_accuracy,4)}') \n",
    "print(f'Mis-Classification: {round(conf_misclassification,4)}') \n",
    "print(f'Sensitivity: {round(conf_sensitivity,4)}') \n",
    "print(f'Specificity: {round(conf_specificity,4)}') \n",
    "print(f'Precision: {round(conf_precision,4)}')\n",
    "print(f'f_1 Score: {round(conf_f1,4)}')"
   ]
  },
  {
   "cell_type": "markdown",
   "id": "2ea4f6db",
   "metadata": {},
   "source": [
    "# Decision Tree"
   ]
  },
  {
   "cell_type": "code",
   "execution_count": 65,
   "id": "a607d283",
   "metadata": {},
   "outputs": [],
   "source": [
    "X = df.drop(['Churned'],axis=1)\n",
    "y = df['Churned']"
   ]
  },
  {
   "cell_type": "code",
   "execution_count": 66,
   "id": "0ae27e69",
   "metadata": {},
   "outputs": [],
   "source": [
    "from sklearn.tree import DecisionTreeClassifier\n",
    "from sklearn.metrics import confusion_matrix, ConfusionMatrixDisplay"
   ]
  },
  {
   "cell_type": "code",
   "execution_count": 67,
   "id": "1ef9965c",
   "metadata": {},
   "outputs": [
    {
     "data": {
      "text/plain": [
       "DecisionTreeClassifier(max_depth=8, random_state=0)"
      ]
     },
     "execution_count": 67,
     "metadata": {},
     "output_type": "execute_result"
    }
   ],
   "source": [
    "classifier_dt = DecisionTreeClassifier(max_depth=8,random_state=0)\n",
    "classifier_dt.fit(X_train, y_train)"
   ]
  },
  {
   "cell_type": "markdown",
   "id": "21aca623",
   "metadata": {},
   "source": [
    "# Train Data"
   ]
  },
  {
   "cell_type": "code",
   "execution_count": 68,
   "id": "1155cde0",
   "metadata": {},
   "outputs": [
    {
     "name": "stdout",
     "output_type": "stream",
     "text": [
      "Decision Tree\n",
      "Train Data\n",
      "--------------------------------------------------\n",
      "Accuracy: 0.667\n",
      "Mis-Classification: 0.333\n",
      "Sensitivity: 0.9551\n",
      "Specificity: 0.4021\n",
      "Precision: 0.4021\n",
      "f_1 Score: 0.566\n"
     ]
    },
    {
     "data": {
      "image/png": "[encoded data removed]",
      "text/plain": [
       "<Figure size 504x360 with 2 Axes>"
      ]
     },
     "metadata": {
      "needs_background": "light"
     },
     "output_type": "display_data"
    }
   ],
   "source": [
    "## Train Data\n",
    "# Get probabilities of records belonging to each class\n",
    "y_pred_logreg_proba_dt_train = classifier_dt.predict_proba(X_train)\n",
    "\n",
    "y_pred_logreg_val_dt_train = classifier_dt.predict(X_train)\n",
    "\n",
    "pred_proba_dt_train = y_pred_logreg_proba_dt_train[:,1]\n",
    "\n",
    "preds_dt_train = np.where(pred_proba_dt_train>0.70, 1, 0)\n",
    "\n",
    "plt.rcParams['figure.figsize']=(7,5)\n",
    "cm_dt_train = confusion_matrix(y_train, preds_dt_train)\n",
    "ConfusionMatrixDisplay(confusion_matrix=cm_dt_train).plot()\n",
    "print('Decision Tree')\n",
    "print('Train Data')\n",
    "\n",
    "    # calculate accuracy\n",
    "conf_accuracy = (float (TP+TN) / float(TP + TN + FP + FN))\n",
    "    \n",
    "    # calculate mis-classification\n",
    "conf_misclassification = 1- conf_accuracy\n",
    "    \n",
    "    # calculate the sensitivity\n",
    "conf_sensitivity = (TP / float(TP + FN))\n",
    "    # calculate the specificity\n",
    "conf_specificity = (TN / float(TN + FP))\n",
    "\n",
    "conf_precision = (TN / float(TN + FP))\n",
    "    # calculate f_1 score\n",
    "conf_f1 = 2 * ((conf_precision * conf_sensitivity) / (conf_precision + conf_sensitivity))\n",
    "print('-'*50)\n",
    "print(f'Accuracy: {round(conf_accuracy,4)}') \n",
    "print(f'Mis-Classification: {round(conf_misclassification,4)}') \n",
    "print(f'Sensitivity: {round(conf_sensitivity,4)}') \n",
    "print(f'Specificity: {round(conf_specificity,4)}') \n",
    "print(f'Precision: {round(conf_precision,4)}')\n",
    "print(f'f_1 Score: {round(conf_f1,4)}')"
   ]
  },
  {
   "cell_type": "markdown",
   "id": "2cdf25e2",
   "metadata": {},
   "source": [
    "# Test Data"
   ]
  },
  {
   "cell_type": "code",
   "execution_count": 69,
   "id": "dd5f44b5",
   "metadata": {},
   "outputs": [
    {
     "data": {
      "image/png": "[encoded data removed]",
      "text/plain": [
       "<Figure size 432x288 with 1 Axes>"
      ]
     },
     "metadata": {
      "needs_background": "light"
     },
     "output_type": "display_data"
    },
    {
     "name": "stdout",
     "output_type": "stream",
     "text": [
      "Decision Tree\n",
      "Test Data\n",
      "--------------------------------------------------\n",
      "Accuracy: 0.67\n",
      "Mis-Classification: 0.33\n",
      "Sensitivity: 0.49\n",
      "Specificity: 0.84\n",
      "Precision: 0.84\n",
      "f_1 Score: 0.62\n"
     ]
    },
    {
     "data": {
      "text/plain": [
       "<Figure size 288x288 with 0 Axes>"
      ]
     },
     "metadata": {},
     "output_type": "display_data"
    },
    {
     "data": {
      "image/png": "[encoded data removed]",
      "text/plain": [
       "<Figure size 504x360 with 2 Axes>"
      ]
     },
     "metadata": {
      "needs_background": "light"
     },
     "output_type": "display_data"
    }
   ],
   "source": [
    "## Test Data\n",
    "\n",
    "# Get probabilities of records belonging to each class\n",
    "y_pred_logreg_proba_dt = classifier_dt.predict_proba(X_test)\n",
    "y_pred_logreg_proba_dt\n",
    "\n",
    "y_pred_logreg_val_dt = classifier_dt.predict(X_test)\n",
    "y_pred_logreg_val_dt\n",
    "\n",
    "pred_proba_dt = y_pred_logreg_proba_dt[:,1]\n",
    "\n",
    "preds_dt = np.where(pred_proba_dt>0.70, 1, 0)\n",
    "\n",
    "from sklearn.metrics import roc_curve\n",
    "fpr_dt, tpr_dt, thresholds_dt = roc_curve(y_test, y_pred_logreg_proba_dt[:,1])\n",
    "plt.figure(figsize=(6,4))\n",
    "plt.plot(fpr_dt,tpr_dt,'-g',linewidth=1)\n",
    "plt.plot([0,1], [0,1], 'k--' )\n",
    "plt.title('ROC curve for Decision Tree Model Test Data')\n",
    "plt.xlabel(\"False Positive Rate\")\n",
    "plt.ylabel('True Positive Rate')\n",
    "plt.show()\n",
    "\n",
    "plt.figure(figsize=(4,4))\n",
    "cm_dt = confusion_matrix(y_test, preds_dt)\n",
    "ConfusionMatrixDisplay(confusion_matrix=cm_dt).plot()\n",
    "print('Decision Tree')\n",
    "print('Test Data')\n",
    "\n",
    "TP = cm_dt[1][1]\n",
    "TN = cm_dt[0][0]\n",
    "FP = cm_dt[0][1]\n",
    "FN = cm_dt[1][0]\n",
    "\n",
    "    \n",
    "    # calculate accuracy\n",
    "conf_accuracy = (float (TP+TN) / float(TP + TN + FP + FN))\n",
    "    \n",
    "    # calculate mis-classification\n",
    "conf_misclassification = 1- conf_accuracy\n",
    "    \n",
    "    # calculate the sensitivity\n",
    "conf_sensitivity = (TP / float(TP + FN))\n",
    "    # calculate the specificity\n",
    "conf_specificity = (TN / float(TN + FP))\n",
    "    \n",
    "    # calculate precision\n",
    "conf_precision = (TN / float(TN + FP))\n",
    "    # calculate f_1 score\n",
    "conf_f1 = 2 * ((conf_precision * conf_sensitivity) / (conf_precision + conf_sensitivity))\n",
    "print('-'*50)\n",
    "print(f'Accuracy: {round(conf_accuracy,2)}') \n",
    "print(f'Mis-Classification: {round(conf_misclassification,2)}') \n",
    "print(f'Sensitivity: {round(conf_sensitivity,2)}') \n",
    "print(f'Specificity: {round(conf_specificity,2)}') \n",
    "print(f'Precision: {round(conf_precision,2)}')\n",
    "print(f'f_1 Score: {round(conf_f1,2)}')\n",
    "\n",
    "\n",
    " # Visualizing the decision tree\n",
    "    \n"
   ]
  },
  {
   "cell_type": "markdown",
   "id": "9ebf07bc",
   "metadata": {},
   "source": [
    "# Random Forest"
   ]
  },
  {
   "cell_type": "code",
   "execution_count": 70,
   "id": "42da0b3b",
   "metadata": {},
   "outputs": [],
   "source": [
    "from sklearn.ensemble import RandomForestClassifier"
   ]
  },
  {
   "cell_type": "code",
   "execution_count": 71,
   "id": "a0100c9f",
   "metadata": {},
   "outputs": [
    {
     "data": {
      "text/plain": [
       "RandomForestClassifier(max_depth=8, n_estimators=20, random_state=0)"
      ]
     },
     "execution_count": 71,
     "metadata": {},
     "output_type": "execute_result"
    }
   ],
   "source": [
    "classifier_rf = RandomForestClassifier(n_estimators= 20 ,max_depth=8, random_state=0)\n",
    "classifier_rf.fit(X_train, y_train)"
   ]
  },
  {
   "cell_type": "markdown",
   "id": "70f99136",
   "metadata": {},
   "source": [
    "# Train Data"
   ]
  },
  {
   "cell_type": "code",
   "execution_count": 72,
   "id": "71f141cf",
   "metadata": {},
   "outputs": [
    {
     "name": "stdout",
     "output_type": "stream",
     "text": [
      "Random Forest\n",
      "Train Data\n",
      "--------------------------------------------------\n",
      "Accuracy: 0.7089\n",
      "Mis-Classification: 0.2911\n",
      "Sensitivity: 0.5098\n",
      "Specificity: 0.8903\n",
      "Precision: 0.8903\n",
      "f_1 Score: 0.6484\n"
     ]
    },
    {
     "data": {
      "image/png": "[encoded data removed]",
      "text/plain": [
       "<Figure size 504x360 with 2 Axes>"
      ]
     },
     "metadata": {
      "needs_background": "light"
     },
     "output_type": "display_data"
    }
   ],
   "source": [
    "## Train Data\n",
    "\n",
    "y_pred_logreg_proba_rf_train = classifier_rf.predict_proba(X_train)\n",
    "\n",
    "pred_proba_rf_train = y_pred_logreg_proba_rf_train[:,1]\n",
    "\n",
    "preds_rf_train = np.where(pred_proba_rf_train>0.70, 1, 0)\n",
    "\n",
    "cm_rf_train = confusion_matrix(y_train, preds_rf_train)\n",
    "ConfusionMatrixDisplay(confusion_matrix=cm_rf_train).plot()\n",
    "print('Random Forest')\n",
    "print('Train Data')\n",
    "\n",
    "TP = cm_rf_train[1][1]\n",
    "TN = cm_rf_train[0][0]\n",
    "FP = cm_rf_train[0][1]\n",
    "FN = cm_rf_train[1][0]\n",
    "\n",
    "    \n",
    "    # calculate accuracy\n",
    "conf_accuracy = (float (TP+TN) / float(TP + TN + FP + FN))\n",
    "    \n",
    "    # calculate mis-classification\n",
    "conf_misclassification = 1- conf_accuracy\n",
    "    \n",
    "    # calculate the sensitivity\n",
    "conf_sensitivity = (TP / float(TP + FN))\n",
    "    # calculate the specificity\n",
    "conf_specificity = (TN / float(TN + FP))\n",
    "    \n",
    "    # calculate precision\n",
    "conf_precision = (TN / float(TN + FP))\n",
    "    # calculate f_1 score\n",
    "conf_f1 = 2 * ((conf_precision * conf_sensitivity) / (conf_precision + conf_sensitivity))\n",
    "print('-'*50)\n",
    "print(f'Accuracy: {round(conf_accuracy,4)}') \n",
    "print(f'Mis-Classification: {round(conf_misclassification,4)}') \n",
    "print(f'Sensitivity: {round(conf_sensitivity,4)}') \n",
    "print(f'Specificity: {round(conf_specificity,4)}') \n",
    "print(f'Precision: {round(conf_precision,4)}')\n",
    "print(f'f_1 Score: {round(conf_f1,4)}')"
   ]
  },
  {
   "cell_type": "markdown",
   "id": "e8d92de4",
   "metadata": {},
   "source": [
    "# Test Data"
   ]
  },
  {
   "cell_type": "code",
   "execution_count": 73,
   "id": "00289434",
   "metadata": {},
   "outputs": [
    {
     "data": {
      "image/png": "[encoded data removed]",
      "text/plain": [
       "<Figure size 432x288 with 1 Axes>"
      ]
     },
     "metadata": {
      "needs_background": "light"
     },
     "output_type": "display_data"
    },
    {
     "name": "stdout",
     "output_type": "stream",
     "text": [
      "Random Forest\n",
      "Test Data\n",
      "--------------------------------------------------\n",
      "Accuracy: 0.6835\n",
      "Mis-Classification: 0.3165\n",
      "Sensitivity: 0.4718\n",
      "Specificity: 0.8781\n",
      "Precision: 0.8781\n",
      "f_1 Score: 0.6138\n"
     ]
    },
    {
     "data": {
      "image/png": "[encoded data removed]",
      "text/plain": [
       "<Figure size 504x360 with 2 Axes>"
      ]
     },
     "metadata": {
      "needs_background": "light"
     },
     "output_type": "display_data"
    }
   ],
   "source": [
    "## Test Data\n",
    "\n",
    "y_pred_logreg_proba_rf = classifier_rf.predict_proba(X_test)\n",
    "\n",
    "from sklearn.metrics import roc_curve\n",
    "fpr_rf, tpr_rf, thresholds_rf = roc_curve(y_test, y_pred_logreg_proba_rf[:,1])\n",
    "plt.figure(figsize=(6,4))\n",
    "plt.plot(fpr_rf,tpr_rf,'-g',linewidth=1)\n",
    "plt.plot([0,1], [0,1], 'k--' )\n",
    "plt.title('ROC curve for Random forest Model')\n",
    "plt.xlabel(\"False Positive Rate\")\n",
    "plt.ylabel('True Positive Rate')\n",
    "plt.show()\n",
    "\n",
    "pred_proba_rf = y_pred_logreg_proba_rf[:,1]\n",
    "\n",
    "preds_rf = np.where(pred_proba_rf>0.70, 1, 0)\n",
    "\n",
    "cm_rf = confusion_matrix(y_test, preds_rf)\n",
    "ConfusionMatrixDisplay(confusion_matrix=cm_rf).plot()\n",
    "print('Random Forest')\n",
    "print('Test Data')\n",
    "\n",
    "TP = cm_rf[1][1]\n",
    "TN = cm_rf[0][0]\n",
    "FP = cm_rf[0][1]\n",
    "FN = cm_rf[1][0]\n",
    "\n",
    "    \n",
    "    # calculate accuracy\n",
    "conf_accuracy = (float (TP+TN) / float(TP + TN + FP + FN))\n",
    "    \n",
    "    # calculate mis-classification\n",
    "conf_misclassification = 1- conf_accuracy\n",
    "    \n",
    "    # calculate the sensitivity\n",
    "conf_sensitivity = (TP / float(TP + FN))\n",
    "    # calculate the specificity\n",
    "conf_specificity = (TN / float(TN + FP))\n",
    "    \n",
    "    # calculate precision\n",
    "conf_precision = (TN / float(TN + FP))\n",
    "    # calculate f_1 score\n",
    "conf_f1 = 2 * ((conf_precision * conf_sensitivity) / (conf_precision + conf_sensitivity))\n",
    "print('-'*50)\n",
    "print(f'Accuracy: {round(conf_accuracy,4)}') \n",
    "print(f'Mis-Classification: {round(conf_misclassification,4)}') \n",
    "print(f'Sensitivity: {round(conf_sensitivity,4)}') \n",
    "print(f'Specificity: {round(conf_specificity,4)}') \n",
    "print(f'Precision: {round(conf_precision,4)}')\n",
    "print(f'f_1 Score: {round(conf_f1,4)}')"
   ]
  },
  {
   "cell_type": "markdown",
   "id": "6a8c04f4",
   "metadata": {},
   "source": [
    "## The Logistics Regression model yields the relatively good result across Accuracy, Sensitivity, and Specificity in both train and test data. This is the best model for predicting churn with sensitivity for train and test data being 97 % and 96 % respectively. Also logistic regression has a good accuracy score of 68 % for train data and 67 % for test data. "
   ]
  },
  {
   "cell_type": "markdown",
   "id": "80951fc9",
   "metadata": {},
   "source": [
    "# Multivariate Normality"
   ]
  },
  {
   "cell_type": "markdown",
   "id": "58e9f8d6",
   "metadata": {},
   "source": [
    "### Henze-Zirkler test \n",
    "\n",
    "#### H0 (accepted): The variables follow a multivariate normality"
   ]
  },
  {
   "cell_type": "code",
   "execution_count": 74,
   "id": "79f9cc53",
   "metadata": {},
   "outputs": [
    {
     "data": {
      "text/plain": [
       "HZResults(hz=829.1351187847271, pval=0.0, normal=False)"
      ]
     },
     "execution_count": 74,
     "metadata": {},
     "output_type": "execute_result"
    }
   ],
   "source": [
    "\n",
    "from pingouin import multivariate_normality\n",
    "import pandas as pd\n",
    "import numpy as np\n",
    "data = pd.DataFrame(df)\n",
    "multivariate_normality(df, alpha=.05)\n",
    "# ## in output \"normal= True\" if X comes from a multivariate normal distribution."
   ]
  },
  {
   "cell_type": "markdown",
   "id": "49441355",
   "metadata": {},
   "source": [
    "#### As normal = False, the data doesn't follow multivariate normality"
   ]
  },
  {
   "cell_type": "markdown",
   "id": "d62bc60f",
   "metadata": {},
   "source": [
    "# Mahalanobis distance to check for multivariate outliers"
   ]
  },
  {
   "cell_type": "code",
   "execution_count": 75,
   "id": "0f43182a",
   "metadata": {},
   "outputs": [],
   "source": [
    "\n",
    "def mahalanobis(x=None, data=None, cov=None): \n",
    "    x_mu = x - np.mean(data)   \n",
    "    if not cov:\n",
    "        cov = np.cov(data.values.T) \n",
    "    inv_covmat = np.linalg.inv(cov) \n",
    "    left = np.dot(x_mu, inv_covmat) \n",
    "    mahal = np.dot(left, x_mu.T)    \n",
    "    return mahal.diagonal() "
   ]
  },
  {
   "cell_type": "code",
   "execution_count": 76,
   "id": "c25f68d5",
   "metadata": {},
   "outputs": [],
   "source": [
    "df_norm['mahalanobis'] = mahalanobis(x=df_norm.drop(df_norm.columns[[0,3]], axis=1), \n",
    "                 data=df_norm[['session_count','quest_completed_event_count','active_days','session_length_min']])"
   ]
  },
  {
   "cell_type": "code",
   "execution_count": 77,
   "id": "53b06903",
   "metadata": {},
   "outputs": [
    {
     "data": {
      "text/html": [
       "<div>\n",
       "<style scoped>\n",
       "    .dataframe tbody tr th:only-of-type {\n",
       "        vertical-align: middle;\n",
       "    }\n",
       "\n",
       "    .dataframe tbody tr th {\n",
       "        vertical-align: top;\n",
       "    }\n",
       "\n",
       "    .dataframe thead th {\n",
       "        text-align: right;\n",
       "    }\n",
       "</style>\n",
       "<table border=\"1\" class=\"dataframe\">\n",
       "  <thead>\n",
       "    <tr style=\"text-align: right;\">\n",
       "      <th></th>\n",
       "      <th>Churned</th>\n",
       "      <th>session_count</th>\n",
       "      <th>quest_completed_event_count</th>\n",
       "      <th>store_purchase_event_count</th>\n",
       "      <th>active_days</th>\n",
       "      <th>session_length_min</th>\n",
       "      <th>mahalanobis</th>\n",
       "      <th>p</th>\n",
       "    </tr>\n",
       "  </thead>\n",
       "  <tbody>\n",
       "    <tr>\n",
       "      <th>0</th>\n",
       "      <td>0</td>\n",
       "      <td>-0.13047</td>\n",
       "      <td>-0.22727</td>\n",
       "      <td>-0.67254</td>\n",
       "      <td>0.95994</td>\n",
       "      <td>-0.17490</td>\n",
       "      <td>8.03838</td>\n",
       "      <td>0.04523</td>\n",
       "    </tr>\n",
       "    <tr>\n",
       "      <th>1</th>\n",
       "      <td>0</td>\n",
       "      <td>-0.41975</td>\n",
       "      <td>-0.23823</td>\n",
       "      <td>-0.67254</td>\n",
       "      <td>-0.13604</td>\n",
       "      <td>-0.23754</td>\n",
       "      <td>0.86641</td>\n",
       "      <td>0.83353</td>\n",
       "    </tr>\n",
       "    <tr>\n",
       "      <th>2</th>\n",
       "      <td>1</td>\n",
       "      <td>0.75261</td>\n",
       "      <td>-0.19440</td>\n",
       "      <td>0.05946</td>\n",
       "      <td>-0.19693</td>\n",
       "      <td>0.75046</td>\n",
       "      <td>8.51696</td>\n",
       "      <td>0.03645</td>\n",
       "    </tr>\n",
       "    <tr>\n",
       "      <th>3</th>\n",
       "      <td>0</td>\n",
       "      <td>2.15336</td>\n",
       "      <td>2.01868</td>\n",
       "      <td>1.52346</td>\n",
       "      <td>2.29948</td>\n",
       "      <td>2.13321</td>\n",
       "      <td>5.79331</td>\n",
       "      <td>0.12211</td>\n",
       "    </tr>\n",
       "    <tr>\n",
       "      <th>4</th>\n",
       "      <td>1</td>\n",
       "      <td>-0.22182</td>\n",
       "      <td>-0.51212</td>\n",
       "      <td>-0.67254</td>\n",
       "      <td>0.04662</td>\n",
       "      <td>-0.35648</td>\n",
       "      <td>0.71899</td>\n",
       "      <td>0.86873</td>\n",
       "    </tr>\n",
       "  </tbody>\n",
       "</table>\n",
       "</div>"
      ],
      "text/plain": [
       "   Churned  session_count  quest_completed_event_count  \\\n",
       "0        0       -0.13047                     -0.22727   \n",
       "1        0       -0.41975                     -0.23823   \n",
       "2        1        0.75261                     -0.19440   \n",
       "3        0        2.15336                      2.01868   \n",
       "4        1       -0.22182                     -0.51212   \n",
       "\n",
       "   store_purchase_event_count  active_days  session_length_min  mahalanobis  \\\n",
       "0                    -0.67254      0.95994            -0.17490      8.03838   \n",
       "1                    -0.67254     -0.13604            -0.23754      0.86641   \n",
       "2                     0.05946     -0.19693             0.75046      8.51696   \n",
       "3                     1.52346      2.29948             2.13321      5.79331   \n",
       "4                    -0.67254      0.04662            -0.35648      0.71899   \n",
       "\n",
       "        p  \n",
       "0 0.04523  \n",
       "1 0.83353  \n",
       "2 0.03645  \n",
       "3 0.12211  \n",
       "4 0.86873  "
      ]
     },
     "execution_count": 77,
     "metadata": {},
     "output_type": "execute_result"
    }
   ],
   "source": [
    "from scipy.stats import chi2\n",
    "\n",
    "df_norm['p'] = 1 - chi2.cdf(df_norm['mahalanobis'], 3)\n",
    "df_norm.head()"
   ]
  },
  {
   "cell_type": "code",
   "execution_count": 78,
   "id": "cb4e17f5",
   "metadata": {},
   "outputs": [],
   "source": [
    "mul_out_churn = df_norm.loc[(df_norm['p']< 0.001) & (df_norm['Churned'] == 1),  ]\n",
    "mul_out_stay = df_norm.loc[(df_norm['p']< 0.001) & (df_norm['Churned'] == 0),   ]"
   ]
  },
  {
   "cell_type": "code",
   "execution_count": 79,
   "id": "908cfd6c",
   "metadata": {},
   "outputs": [
    {
     "data": {
      "text/plain": [
       "(68, 8)"
      ]
     },
     "execution_count": 79,
     "metadata": {},
     "output_type": "execute_result"
    }
   ],
   "source": [
    "mul_out_churn.shape"
   ]
  },
  {
   "cell_type": "code",
   "execution_count": 80,
   "id": "bf75a011",
   "metadata": {},
   "outputs": [
    {
     "data": {
      "text/plain": [
       "(471, 8)"
      ]
     },
     "execution_count": 80,
     "metadata": {},
     "output_type": "execute_result"
    }
   ],
   "source": [
    "mul_out_stay.shape"
   ]
  },
  {
   "cell_type": "code",
   "execution_count": 81,
   "id": "a986e93d",
   "metadata": {},
   "outputs": [
    {
     "data": {
      "text/plain": [
       "(539, 8)"
      ]
     },
     "execution_count": 81,
     "metadata": {},
     "output_type": "execute_result"
    }
   ],
   "source": [
    "mul_out =  df_norm.loc[(df_norm['p']< 0.001), ]\n",
    "mul_out.shape"
   ]
  },
  {
   "cell_type": "markdown",
   "id": "7fd855a6",
   "metadata": {},
   "source": [
    "## Checking Nature of these 539 Multivariante Outliers"
   ]
  },
  {
   "cell_type": "code",
   "execution_count": 82,
   "id": "2fcd4212",
   "metadata": {},
   "outputs": [
    {
     "data": {
      "text/html": [
       "<div>\n",
       "<style scoped>\n",
       "    .dataframe tbody tr th:only-of-type {\n",
       "        vertical-align: middle;\n",
       "    }\n",
       "\n",
       "    .dataframe tbody tr th {\n",
       "        vertical-align: top;\n",
       "    }\n",
       "\n",
       "    .dataframe thead th {\n",
       "        text-align: right;\n",
       "    }\n",
       "</style>\n",
       "<table border=\"1\" class=\"dataframe\">\n",
       "  <thead>\n",
       "    <tr style=\"text-align: right;\">\n",
       "      <th></th>\n",
       "      <th>session_count</th>\n",
       "      <th>quest_completed_event_count</th>\n",
       "      <th>store_purchase_event_count</th>\n",
       "      <th>active_days</th>\n",
       "      <th>session_length_min</th>\n",
       "      <th>mahalanobis</th>\n",
       "      <th>p</th>\n",
       "    </tr>\n",
       "    <tr>\n",
       "      <th>Churned</th>\n",
       "      <th></th>\n",
       "      <th></th>\n",
       "      <th></th>\n",
       "      <th></th>\n",
       "      <th></th>\n",
       "      <th></th>\n",
       "      <th></th>\n",
       "    </tr>\n",
       "  </thead>\n",
       "  <tbody>\n",
       "    <tr>\n",
       "      <th>0</th>\n",
       "      <td>0.91157</td>\n",
       "      <td>1.02077</td>\n",
       "      <td>1.05979</td>\n",
       "      <td>1.01248</td>\n",
       "      <td>0.88342</td>\n",
       "      <td>4.93210</td>\n",
       "      <td>0.00031</td>\n",
       "    </tr>\n",
       "    <tr>\n",
       "      <th>1</th>\n",
       "      <td>1.01223</td>\n",
       "      <td>1.03822</td>\n",
       "      <td>1.04077</td>\n",
       "      <td>0.68881</td>\n",
       "      <td>0.88420</td>\n",
       "      <td>6.54723</td>\n",
       "      <td>0.00031</td>\n",
       "    </tr>\n",
       "  </tbody>\n",
       "</table>\n",
       "</div>"
      ],
      "text/plain": [
       "         session_count  quest_completed_event_count  \\\n",
       "Churned                                               \n",
       "0              0.91157                      1.02077   \n",
       "1              1.01223                      1.03822   \n",
       "\n",
       "         store_purchase_event_count  active_days  session_length_min  \\\n",
       "Churned                                                                \n",
       "0                           1.05979      1.01248             0.88342   \n",
       "1                           1.04077      0.68881             0.88420   \n",
       "\n",
       "         mahalanobis       p  \n",
       "Churned                       \n",
       "0            4.93210 0.00031  \n",
       "1            6.54723 0.00031  "
      ]
     },
     "execution_count": 82,
     "metadata": {},
     "output_type": "execute_result"
    }
   ],
   "source": [
    "mul_out.groupby(['Churned']).std()"
   ]
  },
  {
   "cell_type": "markdown",
   "id": "1deb4eb6",
   "metadata": {},
   "source": [
    "#### There are 539 Multivariate outliers which have leverage affect, out of which 68 churned and 471 stayed. The profiling of these 68 customers on basis of Standard deviation is close to 0. Indicating they have similar profile, likely moving to a particular company or a particular rival company. These might reveal the working business to rival company hampering the growth of the company. Further analysis of these IDs is required."
   ]
  }
 ],
 "metadata": {
  "kernelspec": {
   "display_name": "Python 3 (ipykernel)",
   "language": "python",
   "name": "python3"
  },
  "language_info": {
   "codemirror_mode": {
    "name": "ipython",
    "version": 3
   },
   "file_extension": ".py",
   "mimetype": "text/x-python",
   "name": "python",
   "nbconvert_exporter": "python",
   "pygments_lexer": "ipython3",
   "version": "3.9.7"
  }
 },
 "nbformat": 4,
 "nbformat_minor": 5
}
